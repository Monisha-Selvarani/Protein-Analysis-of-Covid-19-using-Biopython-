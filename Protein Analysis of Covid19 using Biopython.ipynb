{
 "cells": [
  {
   "cell_type": "markdown",
   "metadata": {},
   "source": [
    "# Protein Analysis of Covid 19 using Biopython"
   ]
  },
  {
   "cell_type": "markdown",
   "metadata": {},
   "source": [
    "<b>Objective:</b>\n",
    "   - In this notebook I will be exploring the DNA sequence of Covid19 using Biopython a powerful bioinformatics package.\n",
    "   - I will do a simple protein synthesis of Coronavirus with Python."
   ]
  },
  {
   "cell_type": "markdown",
   "metadata": {},
   "source": [
    "<b>Sample DNA Sequence</b>\n",
    "   - Iam using the sample DNA sequence in this to perform sequence analysis, Transcription and Translation."
   ]
  },
  {
   "cell_type": "code",
   "execution_count": 1,
   "metadata": {},
   "outputs": [],
   "source": [
    "#Load the package\n",
    "import Bio\n",
    "\n",
    "import warnings\n",
    "warnings. filterwarnings('ignore')"
   ]
  },
  {
   "cell_type": "code",
   "execution_count": 2,
   "metadata": {},
   "outputs": [
    {
     "data": {
      "text/plain": [
       "['BiopythonDeprecationWarning',\n",
       " 'BiopythonExperimentalWarning',\n",
       " 'BiopythonParserWarning',\n",
       " 'BiopythonWarning',\n",
       " 'MissingExternalDependencyError',\n",
       " 'MissingPythonDependencyError',\n",
       " 'StreamModeError',\n",
       " '__builtins__',\n",
       " '__cached__',\n",
       " '__doc__',\n",
       " '__file__',\n",
       " '__loader__',\n",
       " '__name__',\n",
       " '__package__',\n",
       " '__path__',\n",
       " '__spec__',\n",
       " '__version__',\n",
       " '_parent_dir',\n",
       " 'os',\n",
       " 'warnings']"
      ]
     },
     "execution_count": 2,
     "metadata": {},
     "output_type": "execute_result"
    }
   ],
   "source": [
    "#Check the attributes\n",
    "dir(Bio)"
   ]
  },
  {
   "cell_type": "code",
   "execution_count": 3,
   "metadata": {},
   "outputs": [],
   "source": [
    "#Working with Sequence\n",
    "from Bio.Seq import Seq"
   ]
  },
  {
   "cell_type": "code",
   "execution_count": 4,
   "metadata": {},
   "outputs": [
    {
     "data": {
      "text/plain": [
       "['__abstractmethods__',\n",
       " '__add__',\n",
       " '__bytes__',\n",
       " '__class__',\n",
       " '__contains__',\n",
       " '__delattr__',\n",
       " '__dict__',\n",
       " '__dir__',\n",
       " '__doc__',\n",
       " '__eq__',\n",
       " '__format__',\n",
       " '__ge__',\n",
       " '__getattribute__',\n",
       " '__getitem__',\n",
       " '__gt__',\n",
       " '__hash__',\n",
       " '__imul__',\n",
       " '__init__',\n",
       " '__init_subclass__',\n",
       " '__le__',\n",
       " '__len__',\n",
       " '__lt__',\n",
       " '__module__',\n",
       " '__mul__',\n",
       " '__ne__',\n",
       " '__new__',\n",
       " '__radd__',\n",
       " '__reduce__',\n",
       " '__reduce_ex__',\n",
       " '__repr__',\n",
       " '__rmul__',\n",
       " '__setattr__',\n",
       " '__sizeof__',\n",
       " '__slots__',\n",
       " '__str__',\n",
       " '__subclasshook__',\n",
       " '__weakref__',\n",
       " '_abc_impl',\n",
       " '_data',\n",
       " 'back_transcribe',\n",
       " 'complement',\n",
       " 'complement_rna',\n",
       " 'count',\n",
       " 'count_overlap',\n",
       " 'encode',\n",
       " 'endswith',\n",
       " 'find',\n",
       " 'index',\n",
       " 'join',\n",
       " 'lower',\n",
       " 'lstrip',\n",
       " 'replace',\n",
       " 'reverse_complement',\n",
       " 'reverse_complement_rna',\n",
       " 'rfind',\n",
       " 'rindex',\n",
       " 'rsplit',\n",
       " 'rstrip',\n",
       " 'split',\n",
       " 'startswith',\n",
       " 'strip',\n",
       " 'tomutable',\n",
       " 'transcribe',\n",
       " 'translate',\n",
       " 'ungap',\n",
       " 'upper']"
      ]
     },
     "execution_count": 4,
     "metadata": {},
     "output_type": "execute_result"
    }
   ],
   "source": [
    "dir(Seq)"
   ]
  },
  {
   "cell_type": "code",
   "execution_count": 5,
   "metadata": {},
   "outputs": [
    {
     "data": {
      "text/plain": [
       "Seq('ATGATCTCGTAA')"
      ]
     },
     "execution_count": 5,
     "metadata": {},
     "output_type": "execute_result"
    }
   ],
   "source": [
    "#Create a DNA sequence\n",
    "dna = Seq('ATGATCTCGTAA')\n",
    "dna"
   ]
  },
  {
   "cell_type": "code",
   "execution_count": 6,
   "metadata": {},
   "outputs": [
    {
     "data": {
      "text/plain": [
       "Bio.Seq.Seq"
      ]
     },
     "execution_count": 6,
     "metadata": {},
     "output_type": "execute_result"
    }
   ],
   "source": [
    "type(dna)"
   ]
  },
  {
   "cell_type": "code",
   "execution_count": 7,
   "metadata": {},
   "outputs": [
    {
     "name": "stdout",
     "output_type": "stream",
     "text": [
      "ATGATCTCGTAA\n"
     ]
    }
   ],
   "source": [
    "print(dna)"
   ]
  },
  {
   "cell_type": "markdown",
   "metadata": {},
   "source": [
    "<b>Sequence Manipulation</b>\n",
    "   - Indexing/Slicing\n",
    "   - Join 2 Sequences\n",
    "   - Count the number of Nucleotides"
   ]
  },
  {
   "cell_type": "code",
   "execution_count": 8,
   "metadata": {},
   "outputs": [
    {
     "data": {
      "text/plain": [
       "Seq('ATG')"
      ]
     },
     "execution_count": 8,
     "metadata": {},
     "output_type": "execute_result"
    }
   ],
   "source": [
    "#Slicing\n",
    "dna[0:3]"
   ]
  },
  {
   "cell_type": "code",
   "execution_count": 9,
   "metadata": {},
   "outputs": [],
   "source": [
    "#Adding Sequence\n",
    "Seq2 = Seq('ATTGTCTCGTAA')\n",
    "           "
   ]
  },
  {
   "cell_type": "code",
   "execution_count": 10,
   "metadata": {},
   "outputs": [
    {
     "data": {
      "text/plain": [
       "Seq('ATGATTGTCTCGTAA')"
      ]
     },
     "execution_count": 10,
     "metadata": {},
     "output_type": "execute_result"
    }
   ],
   "source": [
    "dna[0:3] + Seq2"
   ]
  },
  {
   "cell_type": "code",
   "execution_count": 11,
   "metadata": {},
   "outputs": [
    {
     "data": {
      "text/plain": [
       "Seq('ATGATCTCGTAA')"
      ]
     },
     "execution_count": 11,
     "metadata": {},
     "output_type": "execute_result"
    }
   ],
   "source": [
    "dna"
   ]
  },
  {
   "cell_type": "code",
   "execution_count": 12,
   "metadata": {},
   "outputs": [
    {
     "data": {
      "text/plain": [
       "4"
      ]
     },
     "execution_count": 12,
     "metadata": {},
     "output_type": "execute_result"
    }
   ],
   "source": [
    "#Find the number of T nucleotides in a sequence\n",
    "dna.count('T')"
   ]
  },
  {
   "cell_type": "code",
   "execution_count": 13,
   "metadata": {},
   "outputs": [
    {
     "data": {
      "text/plain": [
       "2"
      ]
     },
     "execution_count": 13,
     "metadata": {},
     "output_type": "execute_result"
    }
   ],
   "source": [
    "#Find a codon(3 nucleotide)\n",
    "dna.count('TC')"
   ]
  },
  {
   "cell_type": "code",
   "execution_count": 14,
   "metadata": {},
   "outputs": [
    {
     "data": {
      "text/plain": [
       "1"
      ]
     },
     "execution_count": 14,
     "metadata": {},
     "output_type": "execute_result"
    }
   ],
   "source": [
    "dna.count('ATG')"
   ]
  },
  {
   "cell_type": "code",
   "execution_count": 15,
   "metadata": {},
   "outputs": [
    {
     "data": {
      "text/plain": [
       "12"
      ]
     },
     "execution_count": 15,
     "metadata": {},
     "output_type": "execute_result"
    }
   ],
   "source": [
    "#length\n",
    "len(dna)"
   ]
  },
  {
   "cell_type": "code",
   "execution_count": 16,
   "metadata": {},
   "outputs": [
    {
     "data": {
      "text/plain": [
       "5"
      ]
     },
     "execution_count": 16,
     "metadata": {},
     "output_type": "execute_result"
    }
   ],
   "source": [
    "#Find the index/position of C nucleotide in a sequence\n",
    "dna.find('C')"
   ]
  },
  {
   "cell_type": "code",
   "execution_count": 17,
   "metadata": {},
   "outputs": [
    {
     "data": {
      "text/plain": [
       "Seq('ATGATCTCGTAA')"
      ]
     },
     "execution_count": 17,
     "metadata": {},
     "output_type": "execute_result"
    }
   ],
   "source": [
    "#complement\n",
    "dna"
   ]
  },
  {
   "cell_type": "code",
   "execution_count": 18,
   "metadata": {},
   "outputs": [
    {
     "data": {
      "text/plain": [
       "Seq('TACTAGAGCATT')"
      ]
     },
     "execution_count": 18,
     "metadata": {},
     "output_type": "execute_result"
    }
   ],
   "source": [
    "#A-T, G-C\n",
    "dna.complement()"
   ]
  },
  {
   "cell_type": "code",
   "execution_count": 19,
   "metadata": {},
   "outputs": [
    {
     "data": {
      "text/plain": [
       "Seq('TTACGAGATCAT')"
      ]
     },
     "execution_count": 19,
     "metadata": {},
     "output_type": "execute_result"
    }
   ],
   "source": [
    "#reverse complement\n",
    "dna.reverse_complement()"
   ]
  },
  {
   "cell_type": "code",
   "execution_count": 20,
   "metadata": {
    "scrolled": true
   },
   "outputs": [
    {
     "data": {
      "text/plain": [
       "Seq('ATGATCTCGTAA')"
      ]
     },
     "execution_count": 20,
     "metadata": {},
     "output_type": "execute_result"
    }
   ],
   "source": [
    "dna"
   ]
  },
  {
   "cell_type": "code",
   "execution_count": 21,
   "metadata": {},
   "outputs": [
    {
     "data": {
      "text/plain": [
       "Seq('AUGAUCUCGUAA')"
      ]
     },
     "execution_count": 21,
     "metadata": {},
     "output_type": "execute_result"
    }
   ],
   "source": [
    "#Transcribe DNA to mRNA\n",
    "dna.transcribe()"
   ]
  },
  {
   "cell_type": "code",
   "execution_count": 22,
   "metadata": {},
   "outputs": [],
   "source": [
    "mRNA = dna.transcribe()"
   ]
  },
  {
   "cell_type": "code",
   "execution_count": 23,
   "metadata": {},
   "outputs": [
    {
     "data": {
      "text/plain": [
       "Seq('MIS*')"
      ]
     },
     "execution_count": 23,
     "metadata": {},
     "output_type": "execute_result"
    }
   ],
   "source": [
    "#Translate mRNA to Protein\n",
    "mRNA.translate()"
   ]
  },
  {
   "cell_type": "markdown",
   "metadata": {},
   "source": [
    "# Analysis of Covid 19</b>"
   ]
  },
  {
   "cell_type": "markdown",
   "metadata": {},
   "source": [
    "<b>Task</b>\n",
    "   - Analysis of Covid 19 genome\n",
    "   - Sequence analysis(DNA,RNA)\n",
    "   - Transcription and Translation of DNA(Protein synthesis)\n",
    "   - 3D structure analysis"
   ]
  },
  {
   "cell_type": "markdown",
   "metadata": {},
   "source": [
    "<b>Codons</b>\n",
    "   - A Adenine\n",
    "   - C Cytosine\n",
    "   - G Guanine\n",
    "   - T Thymine\n",
    "   - U Uracil * RNA\n",
    "  "
   ]
  },
  {
   "cell_type": "code",
   "execution_count": 24,
   "metadata": {},
   "outputs": [],
   "source": [
    "from Bio import SeqIO"
   ]
  },
  {
   "cell_type": "code",
   "execution_count": 25,
   "metadata": {
    "scrolled": false
   },
   "outputs": [
    {
     "name": "stdout",
     "output_type": "stream",
     "text": [
      "MN908947.3\n"
     ]
    }
   ],
   "source": [
    "#Load the file\n",
    "for record in SeqIO.parse(r\"C:\\Users\\karthik\\Desktop\\shero\\sequence.fasta\",\"fasta\"):\n",
    "    print(record.id)"
   ]
  },
  {
   "cell_type": "code",
   "execution_count": 26,
   "metadata": {
    "scrolled": false
   },
   "outputs": [
    {
     "name": "stdout",
     "output_type": "stream",
     "text": [
      "ID: MN908947.3\n",
      "Name: MN908947.3\n",
      "Description: MN908947.3 Severe acute respiratory syndrome coronavirus 2 isolate Wuhan-Hu-1, complete genome\n",
      "Number of features: 0\n",
      "Seq('ATTAAAGGTTTATACCTTCCCAGGTAACAAACCAACCAACTTTCGATCTCTTGT...AAA')\n"
     ]
    }
   ],
   "source": [
    "#Load the file\n",
    "for record in SeqIO.parse(r\"C:\\Users\\karthik\\Desktop\\shero\\sequence.fasta\",\"fasta\"):\n",
    "    print(record)"
   ]
  },
  {
   "cell_type": "code",
   "execution_count": 27,
   "metadata": {},
   "outputs": [],
   "source": [
    "# Read the sequence record in the file\n",
    "ncov_record = SeqIO.read(r\"C:\\Users\\karthik\\Desktop\\shero\\sequence.fasta\",\"fasta\")"
   ]
  },
  {
   "cell_type": "code",
   "execution_count": 28,
   "metadata": {},
   "outputs": [
    {
     "data": {
      "text/plain": [
       "SeqRecord(seq=Seq('ATTAAAGGTTTATACCTTCCCAGGTAACAAACCAACCAACTTTCGATCTCTTGT...AAA'), id='MN908947.3', name='MN908947.3', description='MN908947.3 Severe acute respiratory syndrome coronavirus 2 isolate Wuhan-Hu-1, complete genome', dbxrefs=[])"
      ]
     },
     "execution_count": 28,
     "metadata": {},
     "output_type": "execute_result"
    }
   ],
   "source": [
    "ncov_record"
   ]
  },
  {
   "cell_type": "code",
   "execution_count": 29,
   "metadata": {},
   "outputs": [],
   "source": [
    "ncov_dna = ncov_record.seq"
   ]
  },
  {
   "cell_type": "code",
   "execution_count": 30,
   "metadata": {},
   "outputs": [
    {
     "data": {
      "text/plain": [
       "Seq('ATTAAAGGTTTATACCTTCCCAGGTAACAAACCAACCAACTTTCGATCTCTTGT...AAA')"
      ]
     },
     "execution_count": 30,
     "metadata": {},
     "output_type": "execute_result"
    }
   ],
   "source": [
    "#Display the nucleotides\n",
    "ncov_dna"
   ]
  },
  {
   "cell_type": "code",
   "execution_count": 31,
   "metadata": {},
   "outputs": [
    {
     "data": {
      "text/plain": [
       "29903"
      ]
     },
     "execution_count": 31,
     "metadata": {},
     "output_type": "execute_result"
    }
   ],
   "source": [
    "#Length of the sequence\n",
    "len(ncov_dna)"
   ]
  },
  {
   "cell_type": "code",
   "execution_count": 32,
   "metadata": {},
   "outputs": [
    {
     "data": {
      "text/plain": [
       "Seq('ATTAAAGGTTTATACCTTCCCAGGTAACAAACCAACCAACTTTCGATCTCTTGT...AAA')"
      ]
     },
     "execution_count": 32,
     "metadata": {},
     "output_type": "execute_result"
    }
   ],
   "source": [
    "#Protein synthesis\n",
    "#DNA to mRNA to Protein\n",
    "ncov_dna"
   ]
  },
  {
   "cell_type": "code",
   "execution_count": 33,
   "metadata": {},
   "outputs": [],
   "source": [
    "#Transcription DNA to mrna\n",
    "ncov_mrna = ncov_dna.transcribe()"
   ]
  },
  {
   "cell_type": "code",
   "execution_count": 34,
   "metadata": {
    "scrolled": true
   },
   "outputs": [
    {
     "data": {
      "text/plain": [
       "Seq('AUUAAAGGUUUAUACCUUCCCAGGUAACAAACCAACCAACUUUCGAUCUCUUGU...AAA')"
      ]
     },
     "execution_count": 34,
     "metadata": {},
     "output_type": "execute_result"
    }
   ],
   "source": [
    "# Change Thymine to Uracil\n",
    "ncov_mrna"
   ]
  },
  {
   "cell_type": "code",
   "execution_count": 35,
   "metadata": {},
   "outputs": [],
   "source": [
    "#Translation to Amino acid/Protein\n",
    "ncov_protein = ncov_mrna.translate()"
   ]
  },
  {
   "cell_type": "code",
   "execution_count": 36,
   "metadata": {},
   "outputs": [
    {
     "data": {
      "text/plain": [
       "Seq('IKGLYLPR*QTNQLSISCRSVL*TNFKICVAVTRLHA*CTHAV*LITNYCR*QD...KKK')"
      ]
     },
     "execution_count": 36,
     "metadata": {},
     "output_type": "execute_result"
    }
   ],
   "source": [
    "ncov_protein"
   ]
  },
  {
   "cell_type": "code",
   "execution_count": 37,
   "metadata": {},
   "outputs": [
    {
     "data": {
      "text/plain": [
       "9967"
      ]
     },
     "execution_count": 37,
     "metadata": {},
     "output_type": "execute_result"
    }
   ],
   "source": [
    "#Length of Protein/Amino acids\n",
    "len(ncov_protein)"
   ]
  },
  {
   "cell_type": "code",
   "execution_count": 38,
   "metadata": {},
   "outputs": [],
   "source": [
    "# Find all the amino acids\n",
    "ncov_aa = ncov_protein.split(\"*\")"
   ]
  },
  {
   "cell_type": "code",
   "execution_count": 39,
   "metadata": {},
   "outputs": [
    {
     "data": {
      "text/plain": [
       "[Seq('IKGLYLPR'),\n",
       " Seq('QTNQLSISCRSVL'),\n",
       " Seq('TNFKICVAVTRLHA'),\n",
       " Seq('CTHAV'),\n",
       " Seq('LITNYCR'),\n",
       " Seq('QDTSNSSIFCRLLTVSSVLQPIISTSRFRPGVTER'),\n",
       " Seq('DGEPCPWFQRENTRPTQFACFTGSRRARTWLWRLRGGGLIRGTSTS'),\n",
       " Seq('RWHLWLSRS'),\n",
       " Seq('KRRFAST'),\n",
       " Seq('TALCVHQTFGCSNCTSWSCYG'),\n",
       " Seq('AGSRTRRHSVRS'),\n",
       " Seq('W'),\n",
       " Seq('DTWCPCPSCGRNTSGLPQGSSS'),\n",
       " Seq('ER'),\n",
       " Seq(''),\n",
       " Seq('RSWWP'),\n",
       " Seq('LRRRSKVI'),\n",
       " Seq('LRRRAWH'),\n",
       " Seq('SL'),\n",
       " Seq('RFSRKLEH'),\n",
       " Seq('T'),\n",
       " Seq('QWCYP'),\n",
       " Seq('THA'),\n",
       " Seq('A'),\n",
       " Seq('RRGIHSLCR'),\n",
       " Seq('QLLWP'),\n",
       " Seq('WLPS'),\n",
       " Seq('VH'),\n",
       " Seq('RPSSTCW'),\n",
       " Seq('SFMHFVRTTGLY'),\n",
       " Seq('H'),\n",
       " Seq('EGCILLP'),\n",
       " Seq('T'),\n",
       " Seq('A'),\n",
       " Seq('NCLVHGTF'),\n",
       " Seq('KEL'),\n",
       " Seq('IADTF'),\n",
       " Seq('N'),\n",
       " Seq('IGKEI'),\n",
       " Seq('HLQWGMSKFCISLKFHNQDYSTKG'),\n",
       " Seq('KEKA'),\n",
       " Seq('WLYG'),\n",
       " Seq('NSICLSSCVTK'),\n",
       " Seq('MQPNVPFNSHEV'),\n",
       " Seq('SLW'),\n",
       " Seq('NFMADGRFC'),\n",
       " Seq('SHLRILWH'),\n",
       " Seq('EFD'),\n",
       " Seq('RRCHYLWLLTPKCCC'),\n",
       " Seq('NLLSSMSQFRSRT'),\n",
       " Seq('A'),\n",
       " Seq('SCRIP'),\n",
       " Seq(''),\n",
       " Seq('IWLENHSS'),\n",
       " Seq('GWSHYCLWRLCVLLCWLP'),\n",
       " Seq('QVCLLGSTC'),\n",
       " Seq('R'),\n",
       " Seq('HRL'),\n",
       " Seq('PYRCCWRRFRRS'),\n",
       " Seq(''),\n",
       " Seq('QPS'),\n",
       " Seq('NTPKRESQHQYCW'),\n",
       " Seq('L'),\n",
       " Seq('T'),\n",
       " Seq(''),\n",
       " Seq('RDRHYFGIFFCFHKCFCGNCERFGL'),\n",
       " Seq('SIQTNC'),\n",
       " Seq('ILW'),\n",
       " Seq('F'),\n",
       " Seq('SYKRKS'),\n",
       " Seq('KRCLEYW'),\n",
       " Seq('TEINTESSLCICIRGCSCCTINFLPHS'),\n",
       " Seq('NCSKFCACFTEGRYNNTRWNFTVFTETH'),\n",
       " Seq('CYDVHI'),\n",
       " Seq('FGY'),\n",
       " Seq('QSSCNGLHYRWCCSVDFAVAN'),\n",
       " Seq('HLWHCL'),\n",
       " Seq('KTQTRP'),\n",
       " Seq('LA'),\n",
       " Seq('REV'),\n",
       " Seq('GRCRVS'),\n",
       " Seq('RRLGNC'),\n",
       " Seq('IYLNLCL'),\n",
       " Seq('NCRWTNCHLCKGN'),\n",
       " Seq('GECSDIL'),\n",
       " Seq('ACK'),\n",
       " Seq('IFGFVC'),\n",
       " Seq('LYHYWWS'),\n",
       " Seq('T'),\n",
       " Seq('SLEFR'),\n",
       " Seq('NICHALKGIVQKVC'),\n",
       " Seq('IQRRNWPTHASKSPKRNYLLRGRNTSHRSVNRGSCLENW'),\n",
       " Seq('FTTIRTTY'),\n",
       " Seq(''),\n",
       " Seq('SC'),\n",
       " Seq('SSIGWYTSLY'),\n",
       " Seq('RAYVARNQRHRKVLCPCT'),\n",
       " Seq('YDGNKQYLHTQRRCTNKGYFW'),\n",
       " Seq(''),\n",
       " Seq('HCDRSARLQECEYHF'),\n",
       " Seq('T'),\n",
       " Seq(''),\n",
       " Seq('KD'),\n",
       " Seq(''),\n",
       " Seq('ST'),\n",
       " Seq(''),\n",
       " Seq('EVLCLYS'),\n",
       " Seq('TRYRSK'),\n",
       " Seq('VRLCCGRCCHKNFATSI'),\n",
       " Seq('ITYTTGH'),\n",
       " Seq('FR'),\n",
       " Seq('VEYGYILLI'),\n",
       " Seq(''),\n",
       " Seq('VW'),\n",
       " Seq('V'),\n",
       " Seq('IGFTYVLFFLPSR'),\n",
       " Seq('G'),\n",
       " Seq('RRR'),\n",
       " Seq('L'),\n",
       " Seq('RRRV'),\n",
       " Seq('AINSI'),\n",
       " Seq('VWY'),\n",
       " Seq('R'),\n",
       " Seq('LPR'),\n",
       " Seq('TFGIWCHFCCSST'),\n",
       " Seq('RRARRRLVR'),\n",
       " Seq(''),\n",
       " Seq(''),\n",
       " Seq('STNCWSTRRQ'),\n",
       " Seq('GQSDNYYSNNC'),\n",
       " Seq('GSTSIRDGTYTSCSDY'),\n",
       " Seq('SE'),\n",
       " Seq('F'),\n",
       " Seq('WLFKTY'),\n",
       " Seq('QCIH'),\n",
       " Seq('KCRHCGRS'),\n",
       " Seq('KGKTNSGC'),\n",
       " Seq('CSQCLP'),\n",
       " Seq('TWRRCCRSLK'),\n",
       " Seq('GY'),\n",
       " Seq('QCHAS'),\n",
       " Seq('I'),\n",
       " Seq(''),\n",
       " Seq('LHSY'),\n",
       " Seq('WTT'),\n",
       " Seq('SGW'),\n",
       " Seq('LCFKRTQSC'),\n",
       " Seq('TLSSCCRPKC'),\n",
       " Seq('QR'),\n",
       " Seq('RHSTS'),\n",
       " Seq('ECL'),\n",
       " Seq('KF'),\n",
       " Seq('SARSSTCTIIISWYFWC'),\n",
       " Seq('PYTFFKSLCRYCSHKCLLSCL'),\n",
       " Seq(''),\n",
       " Seq('KSL'),\n",
       " Seq('QTCFKLFGNEE'),\n",
       " Seq('KAS'),\n",
       " Seq('TKDR'),\n",
       " Seq('DS'),\n",
       " Seq('RGS'),\n",
       " Seq('AIYN'),\n",
       " Seq('K'),\n",
       " Seq('TFS'),\n",
       " Seq('TEKTR'),\n",
       " Seq(''),\n",
       " Seq('ENQSLC'),\n",
       " Seq('RSYNNSGRN'),\n",
       " Seq('VPHRKLVTLY'),\n",
       " Seq('H'),\n",
       " Seq('WQSSSRFCHSC'),\n",
       " Seq(''),\n",
       " Seq('H'),\n",
       " Seq('HHFLKERCSIYSG'),\n",
       " Seq('CCSRGCFNCCGYTY'),\n",
       " Seq('KGWWHY'),\n",
       " Seq('NASESFEKSANRQLYNHLPGSGFKWLHCRGGKDSA'),\n",
       " Seq('KV'),\n",
       " Seq('KCLLHSTIYYL'),\n",
       " Seq(''),\n",
       " Seq('EARNSWNCFLEFARNACTCRRNTQINACLCGN'),\n",
       " Seq('SHSFNYTA'),\n",
       " Seq('I'),\n",
       " Seq('GY'),\n",
       " Seq('NTRGCG'),\n",
       " Seq('LWC'),\n",
       " Seq('ILLLHQ'),\n",
       " Seq('NNCSVTYQHT'),\n",
       " Seq('RSK'),\n",
       " Seq('NSCYNATWLCNTWLKFGRSCSVYEISQSASYSFCFFT'),\n",
       " Seq('CCYSV'),\n",
       " Seq('WLSYFFF'),\n",
       " Seq('NT'),\n",
       " Seq('RTFY'),\n",
       " Seq('NHLTCWFL'),\n",
       " Seq('RLVLFWTIYTTRYRIS'),\n",
       " Seq('ER'),\n",
       " Seq(''),\n",
       " Seq('KCILH'),\n",
       " Seq(''),\n",
       " Seq('SYHIPPRW'),\n",
       " Seq('SYHL'),\n",
       " Seq('QS'),\n",
       " Seq('DTSFFERSEDY'),\n",
       " Seq('GVYNSRQH'),\n",
       " Seq('PPHASCGHVNDIWTTVWSNLFGWS'),\n",
       " Seq('CY'),\n",
       " Seq('NKTS'),\n",
       " Seq('FT'),\n",
       " Seq('R'),\n",
       " Seq('NILCFT'),\n",
       " Seq(''),\n",
       " Seq(''),\n",
       " Seq('HSTC'),\n",
       " Seq('GF'),\n",
       " Seq('VLPHN'),\n",
       " Seq('S'),\n",
       " Seq('FSG'),\n",
       " Seq('VHVSIKSH'),\n",
       " Seq('KVEIPTS'),\n",
       " Seq('WFNFY'),\n",
       " Seq('MGR'),\n",
       " Seq('QLLSCHCIVNTPTNRVEV'),\n",
       " Seq('STCSTRCLLQSKGW'),\n",
       " Seq('SC'),\n",
       " Seq('LLCTYLSLL'),\n",
       " Seq(''),\n",
       " Seq('DSR'),\n",
       " Seq('VR'),\n",
       " Seq('C'),\n",
       " Seq('RNNELLVSTCQFRFLQKSLERGV'),\n",
       " Seq('NLWTTADNP'),\n",
       " Seq('GCRSCYVHGHTFL'),\n",
       " Seq('TI'),\n",
       " Seq('ERCSDTLYVW'),\n",
       " Seq('TSYKISSTTGVTFCYDVSTTCSV'),\n",
       " Seq('T'),\n",
       " Seq('AWYIYLC'),\n",
       " Seq(''),\n",
       " Seq('VHW'),\n",
       " Seq('LPVWSL'),\n",
       " Seq('TYNF'),\n",
       " Seq('RNFVLHRRCFTYKVLRIQRSYYGCFLQRKQLHNNHKTSYL'),\n",
       " Seq('IGWCCLYRN'),\n",
       " Seq('P'),\n",
       " Seq('VGQLL'),\n",
       " Seq('ERQFLFHRATN'),\n",
       " Seq('SCTKPTISKRKLR'),\n",
       " Seq('F'),\n",
       " Seq('VCM'),\n",
       " Seq(''),\n",
       " Seq('YQIC'),\n",
       " Seq(''),\n",
       " Seq('FKPVNWL'),\n",
       " Seq('ETCFKRA'),\n",
       " Seq('SYIFP'),\n",
       " Seq('LKW'),\n",
       " Seq('CGGY'),\n",
       " Seq('L'),\n",
       " Seq('TLHTLF'),\n",
       " Seq('ERS'),\n",
       " Seq('IVT'),\n",
       " Seq('TYCLAC'),\n",
       " Seq('QCN'),\n",
       " Seq(''),\n",
       " Seq('SHV'),\n",
       " Seq('TKYLVYTLSLEHKTS'),\n",
       " Seq('NIKFV'),\n",
       " Seq('CTEVRGRAGNG'),\n",
       " Seq('SCLRRSKTSL'),\n",
       " Seq('RSSGKSYHTERRS'),\n",
       " Seq('V'),\n",
       " Seq('CENYRSCRRHYT'),\n",
       " Seq('TSK'),\n",
       " Seq(''),\n",
       " Seq('FKNYRRGWPHRSNGCLCRQF'),\n",
       " Seq('SYY'),\n",
       " Seq('ET'),\n",
       " Seq(''),\n",
       " Seq('II'),\n",
       " Seq('SIRFENPCYSWFSCC'),\n",
       " Seq(''),\n",
       " Seq('CPLGYYS'),\n",
       " Seq('LC'),\n",
       " Seq('AFS'),\n",
       " Seq('QSC'),\n",
       " Seq('YNY'),\n",
       " Seq('HSYTVFKPCLY'),\n",
       " Seq('LYALFLYFIATIVYFY'),\n",
       " Seq('KYKF'),\n",
       " Seq('N'),\n",
       " Seq('SIYADYYSKEYC'),\n",
       " Seq('ECR'),\n",
       " Seq('ILSRGFI'),\n",
       " Seq('LFEVT'),\n",
       " Seq('FF'),\n",
       " Seq('TDKYYNLVFTIKCLPRFFNLLNRCFRCFNV'),\n",
       " Seq('FRHAFLLYWLQRRLFELY'),\n",
       " Seq('CHYCNLLYWFYTL'),\n",
       " Seq('CLS'),\n",
       " Seq('WFRFFRHLSFFRNYTNYHFIF'),\n",
       " Seq('MGFNCFWLSCRVVFGIYSFH'),\n",
       " Seq('VFLCTWIGCNHAIVFQLFCSTFY'),\n",
       " Seq(''),\n",
       " Seq('FLAYVVNN'),\n",
       " Seq('SCTNGPDFSYG'),\n",
       " Seq('NVHLLCIILLCMEKLCACCRRL'),\n",
       " Seq('FINLYDVLQT'),\n",
       " Seq(''),\n",
       " Seq('SNKSRMYNYC'),\n",
       " Seq('WC'),\n",
       " Seq('KVLLCLC'),\n",
       " Seq('WR'),\n",
       " Seq('RLLQTTQLELC'),\n",
       " Seq('L'),\n",
       " Seq('YILCW'),\n",
       " Seq('YIY'),\n",
       " Seq(''),\n",
       " Seq(''),\n",
       " Seq('SCERLVTTV'),\n",
       " Seq('KTNKSY'),\n",
       " Seq('PVFLHR'),\n",
       " Seq(''),\n",
       " Seq('CYSEEWFHPSLL'),\n",
       " Seq(''),\n",
       " Seq('SWSKDL'),\n",
       " Seq('KTFSLSFC'),\n",
       " Seq('LRQPES'),\n",
       " Seq(''),\n",
       " Seq('H'),\n",
       " Seq('RFIAY'),\n",
       " Seq('CYSF'),\n",
       " Seq('W'),\n",
       " Seq('IKM'),\n",
       " Seq('RIICKISVCLLQSAYVSTYTVTRSGISV'),\n",
       " Seq('CW'),\n",
       " Seq(''),\n",
       " Seq('CGSCS'),\n",
       " Seq('NV'),\n",
       " Seq('CLR'),\n",
       " Seq('YVFINF'),\n",
       " Seq('RTNGKTQNTSCNCRS'),\n",
       " Seq('TCKECVLRQCLIYFYFSSSARVC'),\n",
       " Seq('FRCRN'),\n",
       " Seq('RCC'),\n",
       " Seq('MS'),\n",
       " Seq('IVTSI'),\n",
       " Seq('HRSYWR'),\n",
       " Seq('L'),\n",
       " Seq(''),\n",
       " Seq('LYAHL'),\n",
       " Seq('QS'),\n",
       " Seq('KHDTP'),\n",
       " Seq('PWCLY'),\n",
       " Seq('L'),\n",
       " Seq('CASY'),\n",
       " Seq('CAGSKKSQHCFDMER'),\n",
       " Seq('RFHVIV'),\n",
       " Seq('TTTKTNT'),\n",
       " Seq('CC'),\n",
       " Seq('KE'),\n",
       " Seq('LTF'),\n",
       " Seq('VDMCNY'),\n",
       " Seq('TSC'),\n",
       " Seq('CCNNKDST'),\n",
       " Seq('GW'),\n",
       " Seq('NC'),\n",
       " Seq(''),\n",
       " Seq('LVEAVN'),\n",
       " Seq('SYTCVPFCCCYFLFNNTCSCHV'),\n",
       " Seq('TY'),\n",
       " Seq('LFK'),\n",
       " Seq('NHRIQGY'),\n",
       " Seq('WWCHS'),\n",
       " Seq('HSIYRYLFC'),\n",
       " Seq('QTC'),\n",
       " Seq('F'),\n",
       " Seq('HMV'),\n",
       " Seq('PAWW'),\n",
       " Seq('LY'),\n",
       " Seq(''),\n",
       " Seq('QSLPIDCCSHNKRSGFCRAWFAWHDITHN'),\n",
       " Seq('W'),\n",
       " Seq('LFAFLT'),\n",
       " Seq('SF'),\n",
       " Seq('CSW'),\n",
       " Seq('HLLHTIKTYRVH'),\n",
       " Seq('LCNISLCFGC'),\n",
       " Seq('MYNF'),\n",
       " Seq('RCFW'),\n",
       " Seq('ASTILL'),\n",
       " Seq('YQCTRRFCCL'),\n",
       " Seq('KFTP'),\n",
       " Seq('HTLCAHGWLYYSIS'),\n",
       " Seq('HLP'),\n",
       " Seq('RFC'),\n",
       " Seq('SGNNF'),\n",
       " Seq('F'),\n",
       " Seq('VL'),\n",
       " Seq('ARHL'),\n",
       " Seq('KIRSWCLCIY'),\n",
       " Seq('W'),\n",
       " Seq('MGT'),\n",
       " Seq('Q'),\n",
       " Seq('LLQIFTRSFLWCRCCKFTY'),\n",
       " Seq('YVYTTNSTYWCFGHISIYSSWWYCSYRSNMPCLLFYEV'),\n",
       " Seq('KSFW'),\n",
       " Seq('IQSCSCL'),\n",
       " Seq('YFTIPYVIHCTLFNTSLLILTWCLFCYLLVLDILSY'),\n",
       " Seq(''),\n",
       " Seq('CFFFSTYSVDGYVHTFSTFLDNNCLYHLYFHKAFLLVL'),\n",
       " Seq(''),\n",
       " Seq('LPKETCSL'),\n",
       " Seq('WCFL'),\n",
       " Seq('YF'),\n",
       " Seq('RSCAVHLFVK'),\n",
       " Seq('RNVSKVA'),\n",
       " Seq(''),\n",
       " Seq('CAITSYAI'),\n",
       " Seq(''),\n",
       " Seq('ILSSL'),\n",
       " Seq(''),\n",
       " Seq('VQVF'),\n",
       " Seq('WSNGYN'),\n",
       " Seq('LQRSCLLSSRKGSQ'),\n",
       " Seq('LQ'),\n",
       " Seq('LRF'),\n",
       " Seq('CSLPTTTNLYHLSCFAEWF'),\n",
       " Seq('KNGIPIW'),\n",
       " Seq('S'),\n",
       " Seq('GLYGTSNLWYNYT'),\n",
       " Seq('RSLA'),\n",
       " Seq(''),\n",
       " Seq('RSLLSKTCDLHL'),\n",
       " Seq('RHA'),\n",
       " Seq('P'),\n",
       " Seq('L'),\n",
       " Seq('RFTHS'),\n",
       " Seq('V'),\n",
       " Seq('S'),\n",
       " Seq('FLGTGW'),\n",
       " Seq('CSTQGYWTFYAKLCT'),\n",
       " Seq('A'),\n",
       " Seq('G'),\n",
       " Seq('YSQS'),\n",
       " Seq('DT'),\n",
       " Seq('V'),\n",
       " Seq('VCSHSTRTDFFSVSLLQWFTIWCLPMCYEAQFHY'),\n",
       " Seq('GFIP'),\n",
       " Seq('WFMW'),\n",
       " Seq('CWF'),\n",
       " Seq('HRL'),\n",
       " Seq('LCLFLLHAPYGITNWSSCWHRLRR'),\n",
       " Seq('LLWTFC'),\n",
       " Seq('QANSTSSWYGHNYYS'),\n",
       " Seq('CFSLVVRCCYKWRQVVSQSIYHNS'),\n",
       " Seq(''),\n",
       " Seq('L'),\n",
       " Seq('PCGYEVQL'),\n",
       " Seq('TSNTRPC'),\n",
       " Seq('HTRTSFCSNWNCRFRYVCFIKRITAKWYEWTYHIG'),\n",
       " Seq('CFIRR'),\n",
       " Seq('IYTF'),\n",
       " Seq('CC'),\n",
       " Seq('TMLRCYFPKCSEKNNQGYTPLVVTHNFDFTFSFSPEYSMVFVLFFV'),\n",
       " Seq('KCLFTFCYGYYCYVCFCNDVCQT'),\n",
       " Seq('ACISLFVFVTFSCHCSLF'),\n",
       " Seq('YGLYAC'),\n",
       " Seq('LGDAYYDMVGYG'),\n",
       " Seq('Y'),\n",
       " Seq('FVWF'),\n",
       " Seq('AKRLCYVCISCSVTNPYDSKNCV'),\n",
       " Seq(''),\n",
       " Seq('WC'),\n",
       " Seq('ESVDTYECLDTRL'),\n",
       " Seq('SLLW'),\n",
       " Seq('CFRSSHFHVGSYNLCYF'),\n",
       " Seq('LLRCSYNCHVFGQRYCFYVC'),\n",
       " Seq('VLPYFLHNW'),\n",
       " Seq('YTSVYNASLLFLRLFLYLLLWPLLFTQPLL'),\n",
       " Seq('TDSWCL'),\n",
       " Seq('LLSFYTGV'),\n",
       " Seq('IYEFTGTTPTQE'),\n",
       " Seq('HRCLQTQH'),\n",
       " Seq('IVGCWWQTLYQSSHCTV'),\n",
       " Seq('NVRCKVHISSLTLSFATTQSRIII'),\n",
       " Seq('IVGSMCPVTQ'),\n",
       " Seq('HSLS'),\n",
       " Seq('RYY'),\n",
       " Seq('SL'),\n",
       " Seq('KNGFTTFCFAFHAGCCRHKQAL'),\n",
       " Seq('RNAGQQGNLTSYSLRV'),\n",
       " Seq('FPSIICSFCYCSRSL'),\n",
       " Seq('AGCC'),\n",
       " Seq('W'),\n",
       " Seq('F'),\n",
       " Seq('SCS'),\n",
       " Seq('KVEEVFECG'),\n",
       " Seq('I'),\n",
       " Seq('I'),\n",
       " Seq('P'),\n",
       " Seq('CSHAT'),\n",
       " Seq('VGKDG'),\n",
       " Seq('SSYDPNV'),\n",
       " Seq('TG'),\n",
       " Seq('I'),\n",
       " Seq('GQEGKSY'),\n",
       " Seq('CYADNAFHYA'),\n",
       " Seq('KVG'),\n",
       " Seq(''),\n",
       " Seq('CTQQHYQQCKRWLCSLEHNTSYNSSQTNGCHTRL'),\n",
       " Seq('HI'),\n",
       " Seq('KYV'),\n",
       " Seq('WYNIYLCISIVGNPTGCRCR'),\n",
       " Seq(''),\n",
       " Seq('NCST'),\n",
       " Seq(''),\n",
       " Seq('N'),\n",
       " Seq('YGQFT'),\n",
       " Seq('FSMASYCNSFKGQFCCQITE'),\n",
       " Seq(''),\n",
       " Seq('A'),\n",
       " Seq('SCCTTTDVLCCRYYTNCLH'),\n",
       " Seq(''),\n",
       " Seq('QCVSLLQHNKGR'),\n",
       " Seq('VCTCTVIRFTGFEMG'),\n",
       " Seq('IP'),\n",
       " Seq('E'),\n",
       " Seq('WNWYYLYRTGTTL'),\n",
       " Seq('VCYRHT'),\n",
       " Seq('RS'),\n",
       " Seq('SEVFILY'),\n",
       " Seq('RIKQPK'),\n",
       " Seq('RYGTW'),\n",
       " Seq('FSCHSTSTSW'),\n",
       " Seq('CNRSACQFNCIIFLCFCCRCC'),\n",
       " Seq('SLQRLSS'),\n",
       " Seq('WGTTNH'),\n",
       " Seq('LC'),\n",
       " Seq('DVVYTHWYWSGNNSYTGSQYGSRILWWCIVLSVLPLPHRSSKS'),\n",
       " Seq('RIL'),\n",
       " Seq('LKR'),\n",
       " Seq('VCTNTYNLC'),\n",
       " Seq(''),\n",
       " Seq('PCGFYT'),\n",
       " Seq('KHSLYRLRYVERLWL'),\n",
       " Seq('L'),\n",
       " Seq('STPRTHASVS'),\n",
       " Seq('CTIVFKRVCGVSAARLTPCGTGTSTDVVYRAFDIYNDKVAGFAKFLKTNCCRFQ...VNN'),\n",
       " Seq('TNNVCFSCFIATSL'),\n",
       " Seq('SVC'),\n",
       " Seq('SYNQNSITPCIH'),\n",
       " Seq('FFHTWCLLP'),\n",
       " Seq('QSFQILSFTFNSGLVLTFLFQCYLVPCYTCLWDQWY'),\n",
       " Seq('EV'),\n",
       " Seq(''),\n",
       " Seq('PCPTI'),\n",
       " Seq(''),\n",
       " Seq('WCLFCFH'),\n",
       " Seq('EV'),\n",
       " Seq('HNKRLDFWYYFRFEDPVPTYC'),\n",
       " Seq(''),\n",
       " Seq('RY'),\n",
       " Seq('CCY'),\n",
       " Seq('SL'),\n",
       " Seq('ISIL'),\n",
       " Seq(''),\n",
       " Seq('SIFGCLLPQKQQKLDGK'),\n",
       " Seq('VQSLF'),\n",
       " Seq('CE'),\n",
       " Seq('LHF'),\n",
       " Seq('ICLSAFSYGP'),\n",
       " Seq('RKTG'),\n",
       " Seq('FQKS'),\n",
       " Seq('GICV'),\n",
       " Seq('EY'),\n",
       " Seq('WLF'),\n",
       " Seq('NIF'),\n",
       " Seq('AHAY'),\n",
       " Seq('FSA'),\n",
       " Seq('SPSGFFGFRTIGRFANRY'),\n",
       " Seq('HH'),\n",
       " Seq('VSNFTCFT'),\n",
       " Seq('KLFDSW'),\n",
       " Seq('FFFRLDSWCCSLLCGLSST'),\n",
       " Seq('DFSIKI'),\n",
       " Seq(''),\n",
       " Seq('KWNHYRCCRLCT'),\n",
       " Seq('PSLRNKVYVEILHCRKRNLSNF'),\n",
       " Seq('L'),\n",
       " Seq('SPTNRIYC'),\n",
       " Seq('IS'),\n",
       " Seq('YYKLVPFW'),\n",
       " Seq('SF'),\n",
       " Seq('RHQICICLCLEQEENQQLCC'),\n",
       " Seq('LFCPI'),\n",
       " Seq('FRIIFHF'),\n",
       " Seq('VLWSVSY'),\n",
       " Seq('IK'),\n",
       " Seq('SLLY'),\n",
       " Seq('CLCRFICN'),\n",
       " Seq('R'),\n",
       " Seq(''),\n",
       " Seq('SQTNRSRANWKDC'),\n",
       " Seq('L'),\n",
       " Seq('L'),\n",
       " Seq('ITR'),\n",
       " Seq('FYRLRYSLEF'),\n",
       " Seq('QS'),\n",
       " Seq('F'),\n",
       " Seq('GWW'),\n",
       " Seq('L'),\n",
       " Seq('LPV'),\n",
       " Seq('IV'),\n",
       " Seq('EV'),\n",
       " Seq('SQTF'),\n",
       " Seq('ERYFN'),\n",
       " Seq('NLSGR'),\n",
       " Seq('HTL'),\n",
       " Seq('WC'),\n",
       " Seq('RF'),\n",
       " Seq('LLLSFTIIWFPTH'),\n",
       " Seq('WCWLPTIQSSSTFF'),\n",
       " Seq('TSTCTSNCLWT'),\n",
       " Seq('KVY'),\n",
       " Seq('FG'),\n",
       " Seq('KQMCQFQLQWFNRHRCSY'),\n",
       " Seq('V'),\n",
       " Seq('QKVSAFPTIWQRHC'),\n",
       " Seq('HY'),\n",
       " Seq('CCP'),\n",
       " Seq('STDT'),\n",
       " Seq('DS'),\n",
       " Seq('HYTMFFWWCQCYNTRNKYF'),\n",
       " Seq('PGCCSLSGC'),\n",
       " Seq('LHRSPCCYSCRSTYSYLACLFYRF'),\n",
       " Seq('CFSNTCRLFNRG'),\n",
       " Seq('TCQQLI'),\n",
       " Seq('V'),\n",
       " Seq('HTHWCRYMR'),\n",
       " Seq('LSDSD'),\n",
       " Seq('FSSAGT'),\n",
       " Seq('CS'),\n",
       " Seq('SIHHCLHYVTWCRKFSCLL'),\n",
       " Seq(''),\n",
       " Seq('LYCHTHKFYY'),\n",
       " Seq('CYHRNSTSVYDQDISRLYNVHLW'),\n",
       " Seq('FN'),\n",
       " Seq('MQQSFVAIWQFLYTIKPCFNWNSC'),\n",
       " Seq('TRQKHPRSFCTSQTNLQNTTN'),\n",
       " Seq('RFWWF'),\n",
       " Seq('FFTNITRSIKTKQEVIY'),\n",
       " Seq('RSTFQQSDTCRCWLHQTIW'),\n",
       " Seq('LPW'),\n",
       " Seq('YCC'),\n",
       " Seq('RPHLCTKV'),\n",
       " Seq('RPYCFATFAHR'),\n",
       " Seq('NDCSIHFCTVSGYNHFWLDLWCRCCITNTICYANGL'),\n",
       " Seq('V'),\n",
       " Seq('WYWSYTECSL'),\n",
       " Seq('EPKIDCQPI'),\n",
       " Seq(''),\n",
       " Seq('CYWQNSRLTFFHSKCTWKTSRCGQPKCTSFKHAC'),\n",
       " Seq('TT'),\n",
       " Seq('LQFWCNFKCFK'),\n",
       " Seq('YPFTS'),\n",
       " Seq('QS'),\n",
       " Seq('G'),\n",
       " Seq('SAN'),\n",
       " Seq(''),\n",
       " Seq('VDHRQTSKFADICDSTIN'),\n",
       " Seq('SCRNQSFC'),\n",
       " Seq('SCCY'),\n",
       " Seq('NVRVCTWTIKKS'),\n",
       " Seq('FLWKGLSSYVLPSVSTSWCSLLACDLCPCTRKELHNCSCHLS'),\n",
       " Seq('WKSTLSS'),\n",
       " Seq('RCLCFKWHTLVCNTKEFL'),\n",
       " Seq('TTNHYYRQHICVW'),\n",
       " Seq('L'),\n",
       " Seq('CCNRNCQQHSL'),\n",
       " Seq('SFAT'),\n",
       " Seq('IRLIQGGVR'),\n",
       " Seq('IF'),\n",
       " Seq('ESYITRC'),\n",
       " Seq('FR'),\n",
       " Seq('HLWH'),\n",
       " Seq('CFSCKHSKRN'),\n",
       " Seq('PPQ'),\n",
       " Seq('GCQEFK'),\n",
       " Seq('ISHRSPRTWKV'),\n",
       " Seq('AVYKMAMVHLARFYSWLDCHSNGDNYALLYDQLL'),\n",
       " Seq('LSQGLLFLWILLQI'),\n",
       " Seq(''),\n",
       " Seq('RRL'),\n",
       " Seq('ASAQRSQITLHINELMDLFMRIFTIGTVTLKQGEIKDATPSDFVRATATIPIQA...VPL'),\n",
       " Seq('AQADEYELMYSFVSEETGTLIVNSVLLFLAFVVFLLVTLAILTALRLCAYCCNI...LLV'),\n",
       " Seq('TN'),\n",
       " Seq('ILY'),\n",
       " Seq('FFCLEL'),\n",
       " Seq('F'),\n",
       " Seq('PWQIPTVLLPLKSLKSSLNNGT'),\n",
       " Seq(''),\n",
       " Seq(''),\n",
       " Seq('VSYSLHGFVFYNLPMPTGIGFCI'),\n",
       " Seq('LS'),\n",
       " Seq('FSSGCYGQ'),\n",
       " Seq('L'),\n",
       " Seq('LVLCLLLFTE'),\n",
       " Seq('IGSPVELLSQWLVL'),\n",
       " Seq('A'),\n",
       " Seq('CGSATSLLLSDCLRVRVPCGHSIQKLTFFSTCHSMALF'),\n",
       " Seq('PDRF'),\n",
       " Seq('KVNS'),\n",
       " Seq('SEL'),\n",
       " Seq('SFVDIFVLLDTI'),\n",
       " Seq('DAVTSRTCLKKSLLLHHERFLITNWELRSV'),\n",
       " Seq('QVTQVLLHTVATGLATIN'),\n",
       " Seq('TQTIPVAVTILLCLYSK'),\n",
       " Seq('QQMFHLVDFQVTIAEILLIIMRTFKVSIWNLDYIINLIIKNLSKSLTENKYSQL...EID'),\n",
       " Seq('TNMKIILFLALITLATCELYHYQECVRGTTVLLKEPCSSGTYEGNSPFHPLADN...KTE'),\n",
       " Seq('LNFH'),\n",
       " Seq('LTSICAF'),\n",
       " Seq('PFCYSLF'),\n",
       " Seq('LCLLSFGSHLNCKIIMKLVTPKRT'),\n",
       " Seq('NFLFS'),\n",
       " Seq('ESSQL'),\n",
       " Seq('LHFTKNVVYSHVLNINHM'),\n",
       " Seq('LMTRVLFTSILNGILE'),\n",
       " Seq('ELENQHL'),\n",
       " Seq('LNCAWMRLVLNHPFSTSISVIIQFPVYLLQLIARNLNWVVL'),\n",
       " Seq('CVVRSMKTF'),\n",
       " Seq('SIMTFVLF'),\n",
       " Seq('ISSKRTN'),\n",
       " Seq('NV'),\n",
       " Seq(''),\n",
       " Seq('WTPKSAKCTPHYVWWTLRFNWQ'),\n",
       " Seq('PEWRTQWGAIKTTSAPRFTQ'),\n",
       " Seq('YCVLVHRSHSTWQGRP'),\n",
       " Seq('IPSRTRRSN'),\n",
       " Seq('HQ'),\n",
       " Seq('QSR'),\n",
       " Seq('PNWLLPKSYQTNSWW'),\n",
       " Seq('R'),\n",
       " Seq('NERSQSKMVFLLPRNWARSWTSLWC'),\n",
       " Seq('QRRHHMGCN'),\n",
       " Seq('GSLEYTKRSHWHPQSC'),\n",
       " Seq('QCCNRATTSSRNNIAKRLLRRREQRRQSSLFSFLIT'),\n",
       " Seq('SQQFKKFNSRQQ'),\n",
       " Seq('GNFSC'),\n",
       " Seq('NGWQWR'),\n",
       " Seq('CCSCFAAA'),\n",
       " Seq('QIEPA'),\n",
       " Seq('EQNVW'),\n",
       " Seq('RPTTTRPNCH'),\n",
       " Seq('EICC'),\n",
       " Seq('GF'),\n",
       " Seq('EASAKTYCH'),\n",
       " Seq('SIQCNTSFRQTWSRTNPRKFWGPGTNQTRN'),\n",
       " Seq('LQTLAANCTICPQRFSVLRNVAHWHGSHTFGNVVDLHRCHQIG'),\n",
       " Seq('QRSKFQRSSHFAE'),\n",
       " Seq('AY'),\n",
       " Seq('RIQNIPTNRA'),\n",
       " Seq('KGQKEEG'),\n",
       " Seq(''),\n",
       " Seq('NSSLTAETEETANCDSSSCCRFG'),\n",
       " Seq('FLQTIATIHEQC'),\n",
       " Seq('LNSGLNSCRPHKADGLYKRFRFSVYDI'),\n",
       " Seq('STLVQNEFS'),\n",
       " Seq('LHSTSRCS'),\n",
       " Seq('L'),\n",
       " Seq('SHIAIFNQCVTLGRT'),\n",
       " Seq('KSHHIFTEATRSTIECTVNNARESCLYGRALMCKINFSSAIPM'),\n",
       " Seq('F'),\n",
       " Seq(''),\n",
       " Seq('LLRRMTKKKKKKKKKK')]"
      ]
     },
     "execution_count": 39,
     "metadata": {},
     "output_type": "execute_result"
    }
   ],
   "source": [
    "ncov_aa"
   ]
  },
  {
   "cell_type": "code",
   "execution_count": 40,
   "metadata": {},
   "outputs": [],
   "source": [
    "ncov_clean = [str(i) for i in ncov_aa]"
   ]
  },
  {
   "cell_type": "code",
   "execution_count": 41,
   "metadata": {},
   "outputs": [
    {
     "data": {
      "text/plain": [
       "['IKGLYLPR',\n",
       " 'QTNQLSISCRSVL',\n",
       " 'TNFKICVAVTRLHA',\n",
       " 'CTHAV',\n",
       " 'LITNYCR',\n",
       " 'QDTSNSSIFCRLLTVSSVLQPIISTSRFRPGVTER',\n",
       " 'DGEPCPWFQRENTRPTQFACFTGSRRARTWLWRLRGGGLIRGTSTS',\n",
       " 'RWHLWLSRS',\n",
       " 'KRRFAST',\n",
       " 'TALCVHQTFGCSNCTSWSCYG',\n",
       " 'AGSRTRRHSVRS',\n",
       " 'W',\n",
       " 'DTWCPCPSCGRNTSGLPQGSSS',\n",
       " 'ER',\n",
       " '',\n",
       " 'RSWWP',\n",
       " 'LRRRSKVI',\n",
       " 'LRRRAWH',\n",
       " 'SL',\n",
       " 'RFSRKLEH',\n",
       " 'T',\n",
       " 'QWCYP',\n",
       " 'THA',\n",
       " 'A',\n",
       " 'RRGIHSLCR',\n",
       " 'QLLWP',\n",
       " 'WLPS',\n",
       " 'VH',\n",
       " 'RPSSTCW',\n",
       " 'SFMHFVRTTGLY',\n",
       " 'H',\n",
       " 'EGCILLP',\n",
       " 'T',\n",
       " 'A',\n",
       " 'NCLVHGTF',\n",
       " 'KEL',\n",
       " 'IADTF',\n",
       " 'N',\n",
       " 'IGKEI',\n",
       " 'HLQWGMSKFCISLKFHNQDYSTKG',\n",
       " 'KEKA',\n",
       " 'WLYG',\n",
       " 'NSICLSSCVTK',\n",
       " 'MQPNVPFNSHEV',\n",
       " 'SLW',\n",
       " 'NFMADGRFC',\n",
       " 'SHLRILWH',\n",
       " 'EFD',\n",
       " 'RRCHYLWLLTPKCCC',\n",
       " 'NLLSSMSQFRSRT',\n",
       " 'A',\n",
       " 'SCRIP',\n",
       " '',\n",
       " 'IWLENHSS',\n",
       " 'GWSHYCLWRLCVLLCWLP',\n",
       " 'QVCLLGSTC',\n",
       " 'R',\n",
       " 'HRL',\n",
       " 'PYRCCWRRFRRS',\n",
       " '',\n",
       " 'QPS',\n",
       " 'NTPKRESQHQYCW',\n",
       " 'L',\n",
       " 'T',\n",
       " '',\n",
       " 'RDRHYFGIFFCFHKCFCGNCERFGL',\n",
       " 'SIQTNC',\n",
       " 'ILW',\n",
       " 'F',\n",
       " 'SYKRKS',\n",
       " 'KRCLEYW',\n",
       " 'TEINTESSLCICIRGCSCCTINFLPHS',\n",
       " 'NCSKFCACFTEGRYNNTRWNFTVFTETH',\n",
       " 'CYDVHI',\n",
       " 'FGY',\n",
       " 'QSSCNGLHYRWCCSVDFAVAN',\n",
       " 'HLWHCL',\n",
       " 'KTQTRP',\n",
       " 'LA',\n",
       " 'REV',\n",
       " 'GRCRVS',\n",
       " 'RRLGNC',\n",
       " 'IYLNLCL',\n",
       " 'NCRWTNCHLCKGN',\n",
       " 'GECSDIL',\n",
       " 'ACK',\n",
       " 'IFGFVC',\n",
       " 'LYHYWWS',\n",
       " 'T',\n",
       " 'SLEFR',\n",
       " 'NICHALKGIVQKVC',\n",
       " 'IQRRNWPTHASKSPKRNYLLRGRNTSHRSVNRGSCLENW',\n",
       " 'FTTIRTTY',\n",
       " '',\n",
       " 'SC',\n",
       " 'SSIGWYTSLY',\n",
       " 'RAYVARNQRHRKVLCPCT',\n",
       " 'YDGNKQYLHTQRRCTNKGYFW',\n",
       " '',\n",
       " 'HCDRSARLQECEYHF',\n",
       " 'T',\n",
       " '',\n",
       " 'KD',\n",
       " '',\n",
       " 'ST',\n",
       " '',\n",
       " 'EVLCLYS',\n",
       " 'TRYRSK',\n",
       " 'VRLCCGRCCHKNFATSI',\n",
       " 'ITYTTGH',\n",
       " 'FR',\n",
       " 'VEYGYILLI',\n",
       " '',\n",
       " 'VW',\n",
       " 'V',\n",
       " 'IGFTYVLFFLPSR',\n",
       " 'G',\n",
       " 'RRR',\n",
       " 'L',\n",
       " 'RRRV',\n",
       " 'AINSI',\n",
       " 'VWY',\n",
       " 'R',\n",
       " 'LPR',\n",
       " 'TFGIWCHFCCSST',\n",
       " 'RRARRRLVR',\n",
       " '',\n",
       " '',\n",
       " 'STNCWSTRRQ',\n",
       " 'GQSDNYYSNNC',\n",
       " 'GSTSIRDGTYTSCSDY',\n",
       " 'SE',\n",
       " 'F',\n",
       " 'WLFKTY',\n",
       " 'QCIH',\n",
       " 'KCRHCGRS',\n",
       " 'KGKTNSGC',\n",
       " 'CSQCLP',\n",
       " 'TWRRCCRSLK',\n",
       " 'GY',\n",
       " 'QCHAS',\n",
       " 'I',\n",
       " '',\n",
       " 'LHSY',\n",
       " 'WTT',\n",
       " 'SGW',\n",
       " 'LCFKRTQSC',\n",
       " 'TLSSCCRPKC',\n",
       " 'QR',\n",
       " 'RHSTS',\n",
       " 'ECL',\n",
       " 'KF',\n",
       " 'SARSSTCTIIISWYFWC',\n",
       " 'PYTFFKSLCRYCSHKCLLSCL',\n",
       " '',\n",
       " 'KSL',\n",
       " 'QTCFKLFGNEE',\n",
       " 'KAS',\n",
       " 'TKDR',\n",
       " 'DS',\n",
       " 'RGS',\n",
       " 'AIYN',\n",
       " 'K',\n",
       " 'TFS',\n",
       " 'TEKTR',\n",
       " '',\n",
       " 'ENQSLC',\n",
       " 'RSYNNSGRN',\n",
       " 'VPHRKLVTLY',\n",
       " 'H',\n",
       " 'WQSSSRFCHSC',\n",
       " '',\n",
       " 'H',\n",
       " 'HHFLKERCSIYSG',\n",
       " 'CCSRGCFNCCGYTY',\n",
       " 'KGWWHY',\n",
       " 'NASESFEKSANRQLYNHLPGSGFKWLHCRGGKDSA',\n",
       " 'KV',\n",
       " 'KCLLHSTIYYL',\n",
       " '',\n",
       " 'EARNSWNCFLEFARNACTCRRNTQINACLCGN',\n",
       " 'SHSFNYTA',\n",
       " 'I',\n",
       " 'GY',\n",
       " 'NTRGCG',\n",
       " 'LWC',\n",
       " 'ILLLHQ',\n",
       " 'NNCSVTYQHT',\n",
       " 'RSK',\n",
       " 'NSCYNATWLCNTWLKFGRSCSVYEISQSASYSFCFFT',\n",
       " 'CCYSV',\n",
       " 'WLSYFFF',\n",
       " 'NT',\n",
       " 'RTFY',\n",
       " 'NHLTCWFL',\n",
       " 'RLVLFWTIYTTRYRIS',\n",
       " 'ER',\n",
       " '',\n",
       " 'KCILH',\n",
       " '',\n",
       " 'SYHIPPRW',\n",
       " 'SYHL',\n",
       " 'QS',\n",
       " 'DTSFFERSEDY',\n",
       " 'GVYNSRQH',\n",
       " 'PPHASCGHVNDIWTTVWSNLFGWS',\n",
       " 'CY',\n",
       " 'NKTS',\n",
       " 'FT',\n",
       " 'R',\n",
       " 'NILCFT',\n",
       " '',\n",
       " '',\n",
       " 'HSTC',\n",
       " 'GF',\n",
       " 'VLPHN',\n",
       " 'S',\n",
       " 'FSG',\n",
       " 'VHVSIKSH',\n",
       " 'KVEIPTS',\n",
       " 'WFNFY',\n",
       " 'MGR',\n",
       " 'QLLSCHCIVNTPTNRVEV',\n",
       " 'STCSTRCLLQSKGW',\n",
       " 'SC',\n",
       " 'LLCTYLSLL',\n",
       " '',\n",
       " 'DSR',\n",
       " 'VR',\n",
       " 'C',\n",
       " 'RNNELLVSTCQFRFLQKSLERGV',\n",
       " 'NLWTTADNP',\n",
       " 'GCRSCYVHGHTFL',\n",
       " 'TI',\n",
       " 'ERCSDTLYVW',\n",
       " 'TSYKISSTTGVTFCYDVSTTCSV',\n",
       " 'T',\n",
       " 'AWYIYLC',\n",
       " '',\n",
       " 'VHW',\n",
       " 'LPVWSL',\n",
       " 'TYNF',\n",
       " 'RNFVLHRRCFTYKVLRIQRSYYGCFLQRKQLHNNHKTSYL',\n",
       " 'IGWCCLYRN',\n",
       " 'P',\n",
       " 'VGQLL',\n",
       " 'ERQFLFHRATN',\n",
       " 'SCTKPTISKRKLR',\n",
       " 'F',\n",
       " 'VCM',\n",
       " '',\n",
       " 'YQIC',\n",
       " '',\n",
       " 'FKPVNWL',\n",
       " 'ETCFKRA',\n",
       " 'SYIFP',\n",
       " 'LKW',\n",
       " 'CGGY',\n",
       " 'L',\n",
       " 'TLHTLF',\n",
       " 'ERS',\n",
       " 'IVT',\n",
       " 'TYCLAC',\n",
       " 'QCN',\n",
       " '',\n",
       " 'SHV',\n",
       " 'TKYLVYTLSLEHKTS',\n",
       " 'NIKFV',\n",
       " 'CTEVRGRAGNG',\n",
       " 'SCLRRSKTSL',\n",
       " 'RSSGKSYHTERRS',\n",
       " 'V',\n",
       " 'CENYRSCRRHYT',\n",
       " 'TSK',\n",
       " '',\n",
       " 'FKNYRRGWPHRSNGCLCRQF',\n",
       " 'SYY',\n",
       " 'ET',\n",
       " '',\n",
       " 'II',\n",
       " 'SIRFENPCYSWFSCC',\n",
       " '',\n",
       " 'CPLGYYS',\n",
       " 'LC',\n",
       " 'AFS',\n",
       " 'QSC',\n",
       " 'YNY',\n",
       " 'HSYTVFKPCLY',\n",
       " 'LYALFLYFIATIVYFY',\n",
       " 'KYKF',\n",
       " 'N',\n",
       " 'SIYADYYSKEYC',\n",
       " 'ECR',\n",
       " 'ILSRGFI',\n",
       " 'LFEVT',\n",
       " 'FF',\n",
       " 'TDKYYNLVFTIKCLPRFFNLLNRCFRCFNV',\n",
       " 'FRHAFLLYWLQRRLFELY',\n",
       " 'CHYCNLLYWFYTL',\n",
       " 'CLS',\n",
       " 'WFRFFRHLSFFRNYTNYHFIF',\n",
       " 'MGFNCFWLSCRVVFGIYSFH',\n",
       " 'VFLCTWIGCNHAIVFQLFCSTFY',\n",
       " '',\n",
       " 'FLAYVVNN',\n",
       " 'SCTNGPDFSYG',\n",
       " 'NVHLLCIILLCMEKLCACCRRL',\n",
       " 'FINLYDVLQT',\n",
       " '',\n",
       " 'SNKSRMYNYC',\n",
       " 'WC',\n",
       " 'KVLLCLC',\n",
       " 'WR',\n",
       " 'RLLQTTQLELC',\n",
       " 'L',\n",
       " 'YILCW',\n",
       " 'YIY',\n",
       " '',\n",
       " '',\n",
       " 'SCERLVTTV',\n",
       " 'KTNKSY',\n",
       " 'PVFLHR',\n",
       " '',\n",
       " 'CYSEEWFHPSLL',\n",
       " '',\n",
       " 'SWSKDL',\n",
       " 'KTFSLSFC',\n",
       " 'LRQPES',\n",
       " '',\n",
       " 'H',\n",
       " 'RFIAY',\n",
       " 'CYSF',\n",
       " 'W',\n",
       " 'IKM',\n",
       " 'RIICKISVCLLQSAYVSTYTVTRSGISV',\n",
       " 'CW',\n",
       " '',\n",
       " 'CGSCS',\n",
       " 'NV',\n",
       " 'CLR',\n",
       " 'YVFINF',\n",
       " 'RTNGKTQNTSCNCRS',\n",
       " 'TCKECVLRQCLIYFYFSSSARVC',\n",
       " 'FRCRN',\n",
       " 'RCC',\n",
       " 'MS',\n",
       " 'IVTSI',\n",
       " 'HRSYWR',\n",
       " 'L',\n",
       " '',\n",
       " 'LYAHL',\n",
       " 'QS',\n",
       " 'KHDTP',\n",
       " 'PWCLY',\n",
       " 'L',\n",
       " 'CASY',\n",
       " 'CAGSKKSQHCFDMER',\n",
       " 'RFHVIV',\n",
       " 'TTTKTNT',\n",
       " 'CC',\n",
       " 'KE',\n",
       " 'LTF',\n",
       " 'VDMCNY',\n",
       " 'TSC',\n",
       " 'CCNNKDST',\n",
       " 'GW',\n",
       " 'NC',\n",
       " '',\n",
       " 'LVEAVN',\n",
       " 'SYTCVPFCCCYFLFNNTCSCHV',\n",
       " 'TY',\n",
       " 'LFK',\n",
       " 'NHRIQGY',\n",
       " 'WWCHS',\n",
       " 'HSIYRYLFC',\n",
       " 'QTC',\n",
       " 'F',\n",
       " 'HMV',\n",
       " 'PAWW',\n",
       " 'LY',\n",
       " '',\n",
       " 'QSLPIDCCSHNKRSGFCRAWFAWHDITHN',\n",
       " 'W',\n",
       " 'LFAFLT',\n",
       " 'SF',\n",
       " 'CSW',\n",
       " 'HLLHTIKTYRVH',\n",
       " 'LCNISLCFGC',\n",
       " 'MYNF',\n",
       " 'RCFW',\n",
       " 'ASTILL',\n",
       " 'YQCTRRFCCL',\n",
       " 'KFTP',\n",
       " 'HTLCAHGWLYYSIS',\n",
       " 'HLP',\n",
       " 'RFC',\n",
       " 'SGNNF',\n",
       " 'F',\n",
       " 'VL',\n",
       " 'ARHL',\n",
       " 'KIRSWCLCIY',\n",
       " 'W',\n",
       " 'MGT',\n",
       " 'Q',\n",
       " 'LLQIFTRSFLWCRCCKFTY',\n",
       " 'YVYTTNSTYWCFGHISIYSSWWYCSYRSNMPCLLFYEV',\n",
       " 'KSFW',\n",
       " 'IQSCSCL',\n",
       " 'YFTIPYVIHCTLFNTSLLILTWCLFCYLLVLDILSY',\n",
       " '',\n",
       " 'CFFFSTYSVDGYVHTFSTFLDNNCLYHLYFHKAFLLVL',\n",
       " '',\n",
       " 'LPKETCSL',\n",
       " 'WCFL',\n",
       " 'YF',\n",
       " 'RSCAVHLFVK',\n",
       " 'RNVSKVA',\n",
       " '',\n",
       " 'CAITSYAI',\n",
       " '',\n",
       " 'ILSSL',\n",
       " '',\n",
       " 'VQVF',\n",
       " 'WSNGYN',\n",
       " 'LQRSCLLSSRKGSQ',\n",
       " 'LQ',\n",
       " 'LRF',\n",
       " 'CSLPTTTNLYHLSCFAEWF',\n",
       " 'KNGIPIW',\n",
       " 'S',\n",
       " 'GLYGTSNLWYNYT',\n",
       " 'RSLA',\n",
       " '',\n",
       " 'RSLLSKTCDLHL',\n",
       " 'RHA',\n",
       " 'P',\n",
       " 'L',\n",
       " 'RFTHS',\n",
       " 'V',\n",
       " 'S',\n",
       " 'FLGTGW',\n",
       " 'CSTQGYWTFYAKLCT',\n",
       " 'A',\n",
       " 'G',\n",
       " 'YSQS',\n",
       " 'DT',\n",
       " 'V',\n",
       " 'VCSHSTRTDFFSVSLLQWFTIWCLPMCYEAQFHY',\n",
       " 'GFIP',\n",
       " 'WFMW',\n",
       " 'CWF',\n",
       " 'HRL',\n",
       " 'LCLFLLHAPYGITNWSSCWHRLRR',\n",
       " 'LLWTFC',\n",
       " 'QANSTSSWYGHNYYS',\n",
       " 'CFSLVVRCCYKWRQVVSQSIYHNS',\n",
       " '',\n",
       " 'L',\n",
       " 'PCGYEVQL',\n",
       " 'TSNTRPC',\n",
       " 'HTRTSFCSNWNCRFRYVCFIKRITAKWYEWTYHIG',\n",
       " 'CFIRR',\n",
       " 'IYTF',\n",
       " 'CC',\n",
       " 'TMLRCYFPKCSEKNNQGYTPLVVTHNFDFTFSFSPEYSMVFVLFFV',\n",
       " 'KCLFTFCYGYYCYVCFCNDVCQT',\n",
       " 'ACISLFVFVTFSCHCSLF',\n",
       " 'YGLYAC',\n",
       " 'LGDAYYDMVGYG',\n",
       " 'Y',\n",
       " 'FVWF',\n",
       " 'AKRLCYVCISCSVTNPYDSKNCV',\n",
       " '',\n",
       " 'WC',\n",
       " 'ESVDTYECLDTRL',\n",
       " 'SLLW',\n",
       " 'CFRSSHFHVGSYNLCYF',\n",
       " 'LLRCSYNCHVFGQRYCFYVC',\n",
       " 'VLPYFLHNW',\n",
       " 'YTSVYNASLLFLRLFLYLLLWPLLFTQPLL',\n",
       " 'TDSWCL',\n",
       " 'LLSFYTGV',\n",
       " 'IYEFTGTTPTQE',\n",
       " 'HRCLQTQH',\n",
       " 'IVGCWWQTLYQSSHCTV',\n",
       " 'NVRCKVHISSLTLSFATTQSRIII',\n",
       " 'IVGSMCPVTQ',\n",
       " 'HSLS',\n",
       " 'RYY',\n",
       " 'SL',\n",
       " 'KNGFTTFCFAFHAGCCRHKQAL',\n",
       " 'RNAGQQGNLTSYSLRV',\n",
       " 'FPSIICSFCYCSRSL',\n",
       " 'AGCC',\n",
       " 'W',\n",
       " 'F',\n",
       " 'SCS',\n",
       " 'KVEEVFECG',\n",
       " 'I',\n",
       " 'I',\n",
       " 'P',\n",
       " 'CSHAT',\n",
       " 'VGKDG',\n",
       " 'SSYDPNV',\n",
       " 'TG',\n",
       " 'I',\n",
       " 'GQEGKSY',\n",
       " 'CYADNAFHYA',\n",
       " 'KVG',\n",
       " '',\n",
       " 'CTQQHYQQCKRWLCSLEHNTSYNSSQTNGCHTRL',\n",
       " 'HI',\n",
       " 'KYV',\n",
       " 'WYNIYLCISIVGNPTGCRCR',\n",
       " '',\n",
       " 'NCST',\n",
       " '',\n",
       " 'N',\n",
       " 'YGQFT',\n",
       " 'FSMASYCNSFKGQFCCQITE',\n",
       " '',\n",
       " 'A',\n",
       " 'SCCTTTDVLCCRYYTNCLH',\n",
       " '',\n",
       " 'QCVSLLQHNKGR',\n",
       " 'VCTCTVIRFTGFEMG',\n",
       " 'IP',\n",
       " 'E',\n",
       " 'WNWYYLYRTGTTL',\n",
       " 'VCYRHT',\n",
       " 'RS',\n",
       " 'SEVFILY',\n",
       " 'RIKQPK',\n",
       " 'RYGTW',\n",
       " 'FSCHSTSTSW',\n",
       " 'CNRSACQFNCIIFLCFCCRCC',\n",
       " 'SLQRLSS',\n",
       " 'WGTTNH',\n",
       " 'LC',\n",
       " 'DVVYTHWYWSGNNSYTGSQYGSRILWWCIVLSVLPLPHRSSKS',\n",
       " 'RIL',\n",
       " 'LKR',\n",
       " 'VCTNTYNLC',\n",
       " '',\n",
       " 'PCGFYT',\n",
       " 'KHSLYRLRYVERLWL',\n",
       " 'L',\n",
       " 'STPRTHASVS',\n",
       " 'CTIVFKRVCGVSAARLTPCGTGTSTDVVYRAFDIYNDKVAGFAKFLKTNCCRFQEKDEDDNLIDSYFVVKRHTFSNYQHEETIYNLLKDCPAVAKHDFFKFRIDGDMVPHISRQRLTKYTMADLVYALRHFDEGNCDTLKEILVTYNCCDDDYFNKKDWYDFVENPDILRVYANLGERVRQALLKTVQFCDAMRNAGIVGVLTLDNQDLNGNWYDFGDFIQTTPGSGVPVVDSYYSLLMPILTLTRALTAESHVDTDLTKPYIKWDLLKYDFTEERLKLFDRYFKYWDQTYHPNCVNCLDDRCILHCANFNVLFSTVFPPTSFGPLVRKIFVDGVPFVVSTGYHFRELGVVHNQDVNLHSSRLSFKELLVYAADPAMHAASGNLLLDKRTTCFSVAALTNNVAFQTVKPGNFNKDFYDFAVSKGFFKEGSSVELKHFFFAQDGNAAISDYDYYRYNLPTMCDIRQLLFVVEVVDKYFDCYDGGCINANQVIVNNLDKSAGFPFNKWGKARLYYDSMSYEDQDALFAYTKRNVIPTITQMNLKYAISAKNRARTVAGVSICSTMTNRQFHQKLLKSIAATRGATVVIGTSKFYGGWHNMLKTVYSDVENPHLMGWDYPKCDRAMPNMLRIMASLVLARKHTTCCSLSHRFYRLANECAQVLSEMVMCGGSLYVKPGGTSSGDATTAYANSVFNICQAVTANVNALLSTDGNKIADKYVRNLQHRLYECLYRNRDVDTDFVNEFYAYLRKHFSMMILSDDAVVCFNSTYASQGLVASIKNFKSVLYYQNNVFMSEAKCWTETDLTKGPHEFCSQHTMLVKQGDDYVYLPYPDPSRILGAGCFVDDIVKTDGTLMIERFVSLAIDAYPLTKHPNQEYADVFHLYLQYIRKLHDELTGHMLDMYSVMLTNDNTSRYWEPEFYEAMYTPHTVLQAVGACVLCNSQTSLRCGACIRRPFLCCKCCYDHVISTSHKLVLSVNPYVCNAPGCDVTDVTQLYLGGMSYYCKSHKPPISFPLCANGQVFGLYKNTCVGSDNVTDFNAIATCDWTNAGDYILANTCTERLKLFAAETLKATEETFKLSYGIATVREVLSDRELHLSWEVGKPRPPLNRNYVFTGYRVTKNSKVQIGEYTFEKGDYGDAVVYRGTTTYKLNVGDYFVLTSHTVMPLSAPTLVPQEHYVRITGLYPTLNISDEFSSNVANYQKVGMQKYSTLQGPPGTGKSHFAIGLALYYPSARIVYTACSHAAVDALCEKALKYLPIDKCSRIIPARARVECFDKFKVNSTLEQYVFCTVNALPETTADIVVFDEISMATNYDLSVVNARLRAKHYVYIGDPAQLPAPRTLLTKGTLEPEYFNSVCRLMKTIGPDMFLGTCRRCPAEIVDTVSALVYDNKLKAHKDKSAQCFKMFYKGVITHDVSSAINRPQIGVVREFLTRNPAWRKAVFISPYNSQNAVASKILGLPTQTVDSSQGSEYDYVIFTQTTETAHSCNVNRFNVAITRAKVGILCIMSDRDLYDKLQFTSLEIPRRNVATLQAENVTGLFKDCSKVITGLHPTQAPTHLSVDTKFKTEGLCVDIPGIPKDMTYRRLISMMGFKMNYQVNGYPNMFITREEAIRHVRAWIGFDVEGCHATREAVGTNLPLQLGFSTGVNLVAVPTGYVDTPNNTDFSRVSAKPPPGDQFKHLIPLMYKGLPWNVVRIKIVQMLSDTLKNLSDRVVFVLWAHGFELTSMKYFVKIGPERTCCLCDRRATCFSTASDTYACWHHSIGFDYVYNPFMIDVQQWGFTGNLQSNHDLYCQVHGNAHVASCDAIMTRCLAVHECFVKRVDWTIEYPIIGDELKINAACRKVQHMVVKAALLADKFPVLHDIGNPKAIKCVPQADVEWKFYDAQPCSDKAYKIEELFYSYATHSDKFTDGVCLFWNCNVDRYPANSIVCRFDTRVLSNLNLPGCDGGSLYVNKHAFHTPAFDKSAFVNLKQLPFFYYSDSPCESHGKQVVSDIDYVPLKSATCITRCNLGGAVCRHHANEYRLYLDAYNMMISAGFSLWVYKQFDTYNLWNTFTRLQSLENVAFNVVNKGHFDGQQGEVPVSIINNTVYTKVDGVDVELFENKTTLPVNVAFELWAKRNIKPVPEVKILNNLGVDIAANTVIWDYKRDAPAHISTIGVCSMTDIAKKPTETICAPLTVFFDGRVDGQVDLFRNARNGVLITEGSVKGLQPSVGPKQASLNGVTLIGEAVKTQFNYYKKVDGVVQQLPETYFTQSRNLQEFKPRSQMEIDFLELAMDEFIERYKLEGYAFEHIVYGDFSHSQLGGLHLLIGLAKRFKESPFELEDFIPMDSTVKNYFITDAQTGSSKCVCSVIDLLLDDFVEIIKSQDLSVVSKVVKVTIDYTEISFMLWCKDGHVETFYPKLQSSQAWQPGVAMPNLYKMQRMLLEKCDLQNYGDSATLPKGIMMNVAKYTQLCQYLNTLTLAVPYNMRVIHFGAGSDKGVAPGTAVLRQWLPTGTLLVDSDLNDFVSDADSTLIGDCATVHTANKWDLIISDMYDPKTKNVTKENDSKEGFFTYICGFIQQKLALGGSVAIKITEHSWNADLYKLMGHFAWWTAFVTNVNASSSEAFLIGCNYLGKPREQIDGYVMHANYIFWRNTNPIQLSSYSLFDMSKFPLKLRGTAVMSLKEGQINDMILSLLSKGRLIIRENNRVVISSDVLVNN',\n",
       " 'TNNVCFSCFIATSL',\n",
       " 'SVC',\n",
       " 'SYNQNSITPCIH',\n",
       " 'FFHTWCLLP',\n",
       " 'QSFQILSFTFNSGLVLTFLFQCYLVPCYTCLWDQWY',\n",
       " 'EV',\n",
       " '',\n",
       " 'PCPTI',\n",
       " '',\n",
       " 'WCLFCFH',\n",
       " 'EV',\n",
       " 'HNKRLDFWYYFRFEDPVPTYC',\n",
       " '',\n",
       " 'RY',\n",
       " 'CCY',\n",
       " 'SL',\n",
       " 'ISIL',\n",
       " '',\n",
       " 'SIFGCLLPQKQQKLDGK',\n",
       " 'VQSLF',\n",
       " 'CE',\n",
       " 'LHF',\n",
       " 'ICLSAFSYGP',\n",
       " 'RKTG',\n",
       " 'FQKS',\n",
       " 'GICV',\n",
       " 'EY',\n",
       " 'WLF',\n",
       " 'NIF',\n",
       " 'AHAY',\n",
       " 'FSA',\n",
       " 'SPSGFFGFRTIGRFANRY',\n",
       " 'HH',\n",
       " 'VSNFTCFT',\n",
       " 'KLFDSW',\n",
       " 'FFFRLDSWCCSLLCGLSST',\n",
       " 'DFSIKI',\n",
       " '',\n",
       " 'KWNHYRCCRLCT',\n",
       " 'PSLRNKVYVEILHCRKRNLSNF',\n",
       " 'L',\n",
       " 'SPTNRIYC',\n",
       " 'IS',\n",
       " 'YYKLVPFW',\n",
       " 'SF',\n",
       " 'RHQICICLCLEQEENQQLCC',\n",
       " 'LFCPI',\n",
       " 'FRIIFHF',\n",
       " 'VLWSVSY',\n",
       " 'IK',\n",
       " 'SLLY',\n",
       " 'CLCRFICN',\n",
       " 'R',\n",
       " '',\n",
       " 'SQTNRSRANWKDC',\n",
       " 'L',\n",
       " 'L',\n",
       " 'ITR',\n",
       " 'FYRLRYSLEF',\n",
       " 'QS',\n",
       " 'F',\n",
       " 'GWW',\n",
       " 'L',\n",
       " 'LPV',\n",
       " 'IV',\n",
       " 'EV',\n",
       " 'SQTF',\n",
       " 'ERYFN',\n",
       " 'NLSGR',\n",
       " 'HTL',\n",
       " 'WC',\n",
       " 'RF',\n",
       " 'LLLSFTIIWFPTH',\n",
       " 'WCWLPTIQSSSTFF',\n",
       " 'TSTCTSNCLWT',\n",
       " 'KVY',\n",
       " 'FG',\n",
       " 'KQMCQFQLQWFNRHRCSY',\n",
       " 'V',\n",
       " 'QKVSAFPTIWQRHC',\n",
       " 'HY',\n",
       " 'CCP',\n",
       " 'STDT',\n",
       " 'DS',\n",
       " 'HYTMFFWWCQCYNTRNKYF',\n",
       " 'PGCCSLSGC',\n",
       " 'LHRSPCCYSCRSTYSYLACLFYRF',\n",
       " 'CFSNTCRLFNRG',\n",
       " 'TCQQLI',\n",
       " 'V',\n",
       " 'HTHWCRYMR',\n",
       " 'LSDSD',\n",
       " 'FSSAGT',\n",
       " 'CS',\n",
       " 'SIHHCLHYVTWCRKFSCLL',\n",
       " '',\n",
       " 'LYCHTHKFYY',\n",
       " 'CYHRNSTSVYDQDISRLYNVHLW',\n",
       " 'FN',\n",
       " 'MQQSFVAIWQFLYTIKPCFNWNSC',\n",
       " 'TRQKHPRSFCTSQTNLQNTTN',\n",
       " 'RFWWF',\n",
       " 'FFTNITRSIKTKQEVIY',\n",
       " 'RSTFQQSDTCRCWLHQTIW',\n",
       " 'LPW',\n",
       " 'YCC',\n",
       " 'RPHLCTKV',\n",
       " 'RPYCFATFAHR',\n",
       " 'NDCSIHFCTVSGYNHFWLDLWCRCCITNTICYANGL',\n",
       " 'V',\n",
       " 'WYWSYTECSL',\n",
       " 'EPKIDCQPI',\n",
       " '',\n",
       " 'CYWQNSRLTFFHSKCTWKTSRCGQPKCTSFKHAC',\n",
       " 'TT',\n",
       " 'LQFWCNFKCFK',\n",
       " 'YPFTS',\n",
       " 'QS',\n",
       " 'G',\n",
       " 'SAN',\n",
       " '',\n",
       " 'VDHRQTSKFADICDSTIN',\n",
       " 'SCRNQSFC',\n",
       " 'SCCY',\n",
       " 'NVRVCTWTIKKS',\n",
       " 'FLWKGLSSYVLPSVSTSWCSLLACDLCPCTRKELHNCSCHLS',\n",
       " 'WKSTLSS',\n",
       " 'RCLCFKWHTLVCNTKEFL',\n",
       " 'TTNHYYRQHICVW',\n",
       " 'L',\n",
       " 'CCNRNCQQHSL',\n",
       " 'SFAT',\n",
       " 'IRLIQGGVR',\n",
       " 'IF',\n",
       " 'ESYITRC',\n",
       " 'FR',\n",
       " 'HLWH',\n",
       " 'CFSCKHSKRN',\n",
       " 'PPQ',\n",
       " 'GCQEFK',\n",
       " 'ISHRSPRTWKV',\n",
       " 'AVYKMAMVHLARFYSWLDCHSNGDNYALLYDQLL',\n",
       " 'LSQGLLFLWILLQI',\n",
       " '',\n",
       " 'RRL',\n",
       " 'ASAQRSQITLHINELMDLFMRIFTIGTVTLKQGEIKDATPSDFVRATATIPIQASLPFGWLIVGVALLAVFQSASKIITLKKRWQLALSKGVHFVCNLLLLFVTVYSHLLLVAAGLEAPFLYLYALVYFLQSINFVRIIMRLWLCWKCRSKNPLLYDANYFLCWHTNCYDYCIPYNSVTSSIVITSGDGTTSPISEHDYQIGGYTEKWESGVKDCVVLHSYFTSDYYQLYSTQLSTDTGVEHVTFFIYNKIVDEPEEHVQIHTIDGSSGVVNPVMEPIYDEPTTTTSVPL',\n",
       " 'AQADEYELMYSFVSEETGTLIVNSVLLFLAFVVFLLVTLAILTALRLCAYCCNIVNVSLVKPSFYVYSRVKNLNSSRVPDLLV',\n",
       " 'TN',\n",
       " 'ILY',\n",
       " 'FFCLEL',\n",
       " 'F',\n",
       " 'PWQIPTVLLPLKSLKSSLNNGT',\n",
       " '',\n",
       " '',\n",
       " 'VSYSLHGFVFYNLPMPTGIGFCI',\n",
       " 'LS',\n",
       " 'FSSGCYGQ',\n",
       " 'L',\n",
       " 'LVLCLLLFTE',\n",
       " 'IGSPVELLSQWLVL',\n",
       " 'A',\n",
       " 'CGSATSLLLSDCLRVRVPCGHSIQKLTFFSTCHSMALF',\n",
       " 'PDRF',\n",
       " 'KVNS',\n",
       " 'SEL',\n",
       " 'SFVDIFVLLDTI',\n",
       " 'DAVTSRTCLKKSLLLHHERFLITNWELRSV',\n",
       " 'QVTQVLLHTVATGLATIN',\n",
       " 'TQTIPVAVTILLCLYSK',\n",
       " 'QQMFHLVDFQVTIAEILLIIMRTFKVSIWNLDYIINLIIKNLSKSLTENKYSQLDEEQPMEID',\n",
       " 'TNMKIILFLALITLATCELYHYQECVRGTTVLLKEPCSSGTYEGNSPFHPLADNKFALTCFSTQFAFACPDGVKHVYQLRARSVSPKLFIRQEEVQELYSPIFLIVAAIVFITLCFTLKRKTE',\n",
       " 'LNFH',\n",
       " 'LTSICAF',\n",
       " 'PFCYSLF',\n",
       " 'LCLLSFGSHLNCKIIMKLVTPKRT',\n",
       " 'NFLFS',\n",
       " 'ESSQL',\n",
       " 'LHFTKNVVYSHVLNINHM',\n",
       " 'LMTRVLFTSILNGILE',\n",
       " 'ELENQHL',\n",
       " 'LNCAWMRLVLNHPFSTSISVIIQFPVYLLQLIARNLNWVVL',\n",
       " 'CVVRSMKTF',\n",
       " 'SIMTFVLF',\n",
       " 'ISSKRTN',\n",
       " 'NV',\n",
       " '',\n",
       " 'WTPKSAKCTPHYVWWTLRFNWQ',\n",
       " 'PEWRTQWGAIKTTSAPRFTQ',\n",
       " 'YCVLVHRSHSTWQGRP',\n",
       " 'IPSRTRRSN',\n",
       " 'HQ',\n",
       " 'QSR',\n",
       " 'PNWLLPKSYQTNSWW',\n",
       " 'R',\n",
       " 'NERSQSKMVFLLPRNWARSWTSLWC',\n",
       " 'QRRHHMGCN',\n",
       " 'GSLEYTKRSHWHPQSC',\n",
       " 'QCCNRATTSSRNNIAKRLLRRREQRRQSSLFSFLIT',\n",
       " 'SQQFKKFNSRQQ',\n",
       " 'GNFSC',\n",
       " 'NGWQWR',\n",
       " 'CCSCFAAA',\n",
       " 'QIEPA',\n",
       " 'EQNVW',\n",
       " 'RPTTTRPNCH',\n",
       " 'EICC',\n",
       " 'GF',\n",
       " 'EASAKTYCH',\n",
       " 'SIQCNTSFRQTWSRTNPRKFWGPGTNQTRN',\n",
       " 'LQTLAANCTICPQRFSVLRNVAHWHGSHTFGNVVDLHRCHQIG',\n",
       " 'QRSKFQRSSHFAE',\n",
       " 'AY',\n",
       " 'RIQNIPTNRA',\n",
       " 'KGQKEEG',\n",
       " '',\n",
       " 'NSSLTAETEETANCDSSSCCRFG',\n",
       " 'FLQTIATIHEQC',\n",
       " 'LNSGLNSCRPHKADGLYKRFRFSVYDI',\n",
       " 'STLVQNEFS',\n",
       " 'LHSTSRCS',\n",
       " 'L',\n",
       " 'SHIAIFNQCVTLGRT',\n",
       " 'KSHHIFTEATRSTIECTVNNARESCLYGRALMCKINFSSAIPM',\n",
       " 'F',\n",
       " '',\n",
       " 'LLRRMTKKKKKKKKKK']"
      ]
     },
     "execution_count": 41,
     "metadata": {},
     "output_type": "execute_result"
    }
   ],
   "source": [
    "ncov_clean"
   ]
  },
  {
   "cell_type": "code",
   "execution_count": 42,
   "metadata": {},
   "outputs": [],
   "source": [
    "# Place the Amino Acids into a DataFrame\n",
    "import pandas as pd\n"
   ]
  },
  {
   "cell_type": "code",
   "execution_count": 43,
   "metadata": {},
   "outputs": [
    {
     "data": {
      "text/html": [
       "<div>\n",
       "<style scoped>\n",
       "    .dataframe tbody tr th:only-of-type {\n",
       "        vertical-align: middle;\n",
       "    }\n",
       "\n",
       "    .dataframe tbody tr th {\n",
       "        vertical-align: top;\n",
       "    }\n",
       "\n",
       "    .dataframe thead th {\n",
       "        text-align: right;\n",
       "    }\n",
       "</style>\n",
       "<table border=\"1\" class=\"dataframe\">\n",
       "  <thead>\n",
       "    <tr style=\"text-align: right;\">\n",
       "      <th></th>\n",
       "      <th>amino_acids</th>\n",
       "    </tr>\n",
       "  </thead>\n",
       "  <tbody>\n",
       "    <tr>\n",
       "      <th>0</th>\n",
       "      <td>IKGLYLPR</td>\n",
       "    </tr>\n",
       "    <tr>\n",
       "      <th>1</th>\n",
       "      <td>QTNQLSISCRSVL</td>\n",
       "    </tr>\n",
       "    <tr>\n",
       "      <th>2</th>\n",
       "      <td>TNFKICVAVTRLHA</td>\n",
       "    </tr>\n",
       "    <tr>\n",
       "      <th>3</th>\n",
       "      <td>CTHAV</td>\n",
       "    </tr>\n",
       "    <tr>\n",
       "      <th>4</th>\n",
       "      <td>LITNYCR</td>\n",
       "    </tr>\n",
       "    <tr>\n",
       "      <th>...</th>\n",
       "      <td>...</td>\n",
       "    </tr>\n",
       "    <tr>\n",
       "      <th>770</th>\n",
       "      <td>SHIAIFNQCVTLGRT</td>\n",
       "    </tr>\n",
       "    <tr>\n",
       "      <th>771</th>\n",
       "      <td>KSHHIFTEATRSTIECTVNNARESCLYGRALMCKINFSSAIPM</td>\n",
       "    </tr>\n",
       "    <tr>\n",
       "      <th>772</th>\n",
       "      <td>F</td>\n",
       "    </tr>\n",
       "    <tr>\n",
       "      <th>773</th>\n",
       "      <td></td>\n",
       "    </tr>\n",
       "    <tr>\n",
       "      <th>774</th>\n",
       "      <td>LLRRMTKKKKKKKKKK</td>\n",
       "    </tr>\n",
       "  </tbody>\n",
       "</table>\n",
       "<p>775 rows × 1 columns</p>\n",
       "</div>"
      ],
      "text/plain": [
       "                                     amino_acids\n",
       "0                                       IKGLYLPR\n",
       "1                                  QTNQLSISCRSVL\n",
       "2                                 TNFKICVAVTRLHA\n",
       "3                                          CTHAV\n",
       "4                                        LITNYCR\n",
       "..                                           ...\n",
       "770                              SHIAIFNQCVTLGRT\n",
       "771  KSHHIFTEATRSTIECTVNNARESCLYGRALMCKINFSSAIPM\n",
       "772                                            F\n",
       "773                                             \n",
       "774                             LLRRMTKKKKKKKKKK\n",
       "\n",
       "[775 rows x 1 columns]"
      ]
     },
     "execution_count": 43,
     "metadata": {},
     "output_type": "execute_result"
    }
   ],
   "source": [
    "df = pd.DataFrame({\"amino_acids\":ncov_clean})\n",
    "df"
   ]
  },
  {
   "cell_type": "code",
   "execution_count": 44,
   "metadata": {},
   "outputs": [],
   "source": [
    "df['count'] = df['amino_acids'].str.len()"
   ]
  },
  {
   "cell_type": "code",
   "execution_count": 45,
   "metadata": {},
   "outputs": [
    {
     "data": {
      "text/html": [
       "<div>\n",
       "<style scoped>\n",
       "    .dataframe tbody tr th:only-of-type {\n",
       "        vertical-align: middle;\n",
       "    }\n",
       "\n",
       "    .dataframe tbody tr th {\n",
       "        vertical-align: top;\n",
       "    }\n",
       "\n",
       "    .dataframe thead th {\n",
       "        text-align: right;\n",
       "    }\n",
       "</style>\n",
       "<table border=\"1\" class=\"dataframe\">\n",
       "  <thead>\n",
       "    <tr style=\"text-align: right;\">\n",
       "      <th></th>\n",
       "      <th>amino_acids</th>\n",
       "      <th>count</th>\n",
       "    </tr>\n",
       "  </thead>\n",
       "  <tbody>\n",
       "    <tr>\n",
       "      <th>0</th>\n",
       "      <td>IKGLYLPR</td>\n",
       "      <td>8</td>\n",
       "    </tr>\n",
       "    <tr>\n",
       "      <th>1</th>\n",
       "      <td>QTNQLSISCRSVL</td>\n",
       "      <td>13</td>\n",
       "    </tr>\n",
       "    <tr>\n",
       "      <th>2</th>\n",
       "      <td>TNFKICVAVTRLHA</td>\n",
       "      <td>14</td>\n",
       "    </tr>\n",
       "    <tr>\n",
       "      <th>3</th>\n",
       "      <td>CTHAV</td>\n",
       "      <td>5</td>\n",
       "    </tr>\n",
       "    <tr>\n",
       "      <th>4</th>\n",
       "      <td>LITNYCR</td>\n",
       "      <td>7</td>\n",
       "    </tr>\n",
       "  </tbody>\n",
       "</table>\n",
       "</div>"
      ],
      "text/plain": [
       "      amino_acids  count\n",
       "0        IKGLYLPR      8\n",
       "1   QTNQLSISCRSVL     13\n",
       "2  TNFKICVAVTRLHA     14\n",
       "3           CTHAV      5\n",
       "4         LITNYCR      7"
      ]
     },
     "execution_count": 45,
     "metadata": {},
     "output_type": "execute_result"
    }
   ],
   "source": [
    "df.head()"
   ]
  },
  {
   "cell_type": "code",
   "execution_count": 46,
   "metadata": {
    "scrolled": false
   },
   "outputs": [
    {
     "data": {
      "text/html": [
       "<div>\n",
       "<style scoped>\n",
       "    .dataframe tbody tr th:only-of-type {\n",
       "        vertical-align: middle;\n",
       "    }\n",
       "\n",
       "    .dataframe tbody tr th {\n",
       "        vertical-align: top;\n",
       "    }\n",
       "\n",
       "    .dataframe thead th {\n",
       "        text-align: right;\n",
       "    }\n",
       "</style>\n",
       "<table border=\"1\" class=\"dataframe\">\n",
       "  <thead>\n",
       "    <tr style=\"text-align: right;\">\n",
       "      <th></th>\n",
       "      <th>amino_acids</th>\n",
       "      <th>count</th>\n",
       "    </tr>\n",
       "  </thead>\n",
       "  <tbody>\n",
       "    <tr>\n",
       "      <th>548</th>\n",
       "      <td>CTIVFKRVCGVSAARLTPCGTGTSTDVVYRAFDIYNDKVAGFAKFL...</td>\n",
       "      <td>2701</td>\n",
       "    </tr>\n",
       "    <tr>\n",
       "      <th>694</th>\n",
       "      <td>ASAQRSQITLHINELMDLFMRIFTIGTVTLKQGEIKDATPSDFVRA...</td>\n",
       "      <td>290</td>\n",
       "    </tr>\n",
       "    <tr>\n",
       "      <th>719</th>\n",
       "      <td>TNMKIILFLALITLATCELYHYQECVRGTTVLLKEPCSSGTYEGNS...</td>\n",
       "      <td>123</td>\n",
       "    </tr>\n",
       "    <tr>\n",
       "      <th>695</th>\n",
       "      <td>AQADEYELMYSFVSEETGTLIVNSVLLFLAFVVFLLVTLAILTALR...</td>\n",
       "      <td>83</td>\n",
       "    </tr>\n",
       "    <tr>\n",
       "      <th>718</th>\n",
       "      <td>QQMFHLVDFQVTIAEILLIIMRTFKVSIWNLDYIINLIIKNLSKSL...</td>\n",
       "      <td>63</td>\n",
       "    </tr>\n",
       "    <tr>\n",
       "      <th>6</th>\n",
       "      <td>DGEPCPWFQRENTRPTQFACFTGSRRARTWLWRLRGGGLIRGTSTS</td>\n",
       "      <td>46</td>\n",
       "    </tr>\n",
       "    <tr>\n",
       "      <th>464</th>\n",
       "      <td>TMLRCYFPKCSEKNNQGYTPLVVTHNFDFTFSFSPEYSMVFVLFFV</td>\n",
       "      <td>46</td>\n",
       "    </tr>\n",
       "    <tr>\n",
       "      <th>539</th>\n",
       "      <td>DVVYTHWYWSGNNSYTGSQYGSRILWWCIVLSVLPLPHRSSKS</td>\n",
       "      <td>43</td>\n",
       "    </tr>\n",
       "    <tr>\n",
       "      <th>758</th>\n",
       "      <td>LQTLAANCTICPQRFSVLRNVAHWHGSHTFGNVVDLHRCHQIG</td>\n",
       "      <td>43</td>\n",
       "    </tr>\n",
       "    <tr>\n",
       "      <th>771</th>\n",
       "      <td>KSHHIFTEATRSTIECTVNNARESCLYGRALMCKINFSSAIPM</td>\n",
       "      <td>43</td>\n",
       "    </tr>\n",
       "  </tbody>\n",
       "</table>\n",
       "</div>"
      ],
      "text/plain": [
       "                                           amino_acids  count\n",
       "548  CTIVFKRVCGVSAARLTPCGTGTSTDVVYRAFDIYNDKVAGFAKFL...   2701\n",
       "694  ASAQRSQITLHINELMDLFMRIFTIGTVTLKQGEIKDATPSDFVRA...    290\n",
       "719  TNMKIILFLALITLATCELYHYQECVRGTTVLLKEPCSSGTYEGNS...    123\n",
       "695  AQADEYELMYSFVSEETGTLIVNSVLLFLAFVVFLLVTLAILTALR...     83\n",
       "718  QQMFHLVDFQVTIAEILLIIMRTFKVSIWNLDYIINLIIKNLSKSL...     63\n",
       "6       DGEPCPWFQRENTRPTQFACFTGSRRARTWLWRLRGGGLIRGTSTS     46\n",
       "464     TMLRCYFPKCSEKNNQGYTPLVVTHNFDFTFSFSPEYSMVFVLFFV     46\n",
       "539        DVVYTHWYWSGNNSYTGSQYGSRILWWCIVLSVLPLPHRSSKS     43\n",
       "758        LQTLAANCTICPQRFSVLRNVAHWHGSHTFGNVVDLHRCHQIG     43\n",
       "771        KSHHIFTEATRSTIECTVNNARESCLYGRALMCKINFSSAIPM     43"
      ]
     },
     "execution_count": 46,
     "metadata": {},
     "output_type": "execute_result"
    }
   ],
   "source": [
    "#Find the largest sequence before *\n",
    "df.nlargest(10,\"count\")"
   ]
  },
  {
   "cell_type": "markdown",
   "metadata": {},
   "source": [
    "<b>3D Structure of Covid</b>\n",
    " - File Format\n",
    "   - pdb : PDBParser() legacy\n",
    "   - cif : MMCIFParser() recent\n",
    "   \n",
    " - links\n",
    "   - https://www.ncbi.nlm.nih.gov/Structure/pdb/6LU7\n",
    "   - Protein Data Bank \n"
   ]
  },
  {
   "cell_type": "code",
   "execution_count": 47,
   "metadata": {},
   "outputs": [],
   "source": [
    "#Import Parser\n",
    "from Bio.PDB import PDBParser,MMCIFParser"
   ]
  },
  {
   "cell_type": "code",
   "execution_count": 48,
   "metadata": {
    "scrolled": true
   },
   "outputs": [],
   "source": [
    "#Reading a PDB file\n",
    "parser = PDBParser()\n",
    "structure = parser.get_structure(\"6lu7.pdb\",\"6lu7.pdb\")"
   ]
  },
  {
   "cell_type": "code",
   "execution_count": 49,
   "metadata": {},
   "outputs": [
    {
     "data": {
      "text/plain": [
       "<Structure id=6lu7.pdb>"
      ]
     },
     "execution_count": 49,
     "metadata": {},
     "output_type": "execute_result"
    }
   ],
   "source": [
    "structure"
   ]
  },
  {
   "cell_type": "code",
   "execution_count": 50,
   "metadata": {},
   "outputs": [
    {
     "data": {
      "text/plain": [
       "1"
      ]
     },
     "execution_count": 50,
     "metadata": {},
     "output_type": "execute_result"
    }
   ],
   "source": [
    "len(structure)"
   ]
  },
  {
   "cell_type": "code",
   "execution_count": 51,
   "metadata": {},
   "outputs": [],
   "source": [
    "model = structure[0]"
   ]
  },
  {
   "cell_type": "code",
   "execution_count": 52,
   "metadata": {},
   "outputs": [
    {
     "name": "stdout",
     "output_type": "stream",
     "text": [
      "<Chain id=A>\n",
      "<Chain id=C>\n"
     ]
    }
   ],
   "source": [
    "for chain in model:\n",
    "    print(chain)"
   ]
  },
  {
   "cell_type": "markdown",
   "metadata": {},
   "source": [
    "<b>Visualizing the 3D structure</b>\n",
    "   - using nglview\n",
    "   - py3Dmol"
   ]
  },
  {
   "cell_type": "code",
   "execution_count": 53,
   "metadata": {},
   "outputs": [
    {
     "data": {
      "application/vnd.jupyter.widget-view+json": {
       "model_id": "706bb8eedb5144a38e3e5716cabfc6a3",
       "version_major": 2,
       "version_minor": 0
      },
      "text/plain": []
     },
     "metadata": {},
     "output_type": "display_data"
    }
   ],
   "source": [
    "# View our 3D Structure\n",
    "import nglview as nv"
   ]
  },
  {
   "cell_type": "code",
   "execution_count": 54,
   "metadata": {
    "scrolled": true
   },
   "outputs": [
    {
     "data": {
      "application/vnd.jupyter.widget-view+json": {
       "model_id": "5cb03daa6a4a49aabf8f7ac3dba05140",
       "version_major": 2,
       "version_minor": 0
      },
      "text/plain": [
       "NGLWidget()"
      ]
     },
     "metadata": {},
     "output_type": "display_data"
    }
   ],
   "source": [
    "nv.demo()"
   ]
  },
  {
   "cell_type": "code",
   "execution_count": 55,
   "metadata": {},
   "outputs": [],
   "source": [
    "#Covid 3D structure\n",
    "view = nv.show_biopython(structure)"
   ]
  },
  {
   "cell_type": "code",
   "execution_count": 56,
   "metadata": {},
   "outputs": [
    {
     "data": {
      "application/vnd.jupyter.widget-view+json": {
       "model_id": "e40fac90bb89484988f496672aa0ff70",
       "version_major": 2,
       "version_minor": 0
      },
      "text/plain": [
       "NGLWidget()"
      ]
     },
     "metadata": {},
     "output_type": "display_data"
    }
   ],
   "source": [
    "view"
   ]
  },
  {
   "cell_type": "code",
   "execution_count": 57,
   "metadata": {},
   "outputs": [],
   "source": [
    "#using py3Dmodel\n",
    "import py3Dmol"
   ]
  },
  {
   "cell_type": "code",
   "execution_count": 58,
   "metadata": {},
   "outputs": [],
   "source": [
    "view2 = py3Dmol.view(query = '6LU7')"
   ]
  },
  {
   "cell_type": "code",
   "execution_count": 59,
   "metadata": {},
   "outputs": [
    {
     "data": {
      "application/3dmoljs_load.v0": "<div id=\"3dmolviewer_1655009225157955\"  style=\"position: relative; width: 640px; height: 480px\">\n        <p id=\"3dmolwarning_1655009225157955\" style=\"background-color:#ffcccc;color:black\">You appear to be running in JupyterLab (or JavaScript failed to load for some other reason).  You need to install the 3dmol extension: <br>\n        <tt>jupyter labextension install jupyterlab_3dmol</tt></p>\n        </div>\n<script>\n\nvar loadScriptAsync = function(uri){\n  return new Promise((resolve, reject) => {\n    var tag = document.createElement('script');\n    tag.src = uri;\n    tag.async = true;\n    tag.onload = () => {\n      resolve();\n    };\n  var firstScriptTag = document.getElementsByTagName('script')[0];\n  firstScriptTag.parentNode.insertBefore(tag, firstScriptTag);\n});\n};\n\nif(typeof $3Dmolpromise === 'undefined') {\n$3Dmolpromise = null;\n  $3Dmolpromise = loadScriptAsync('https://3dmol.org/build/3Dmol.js');\n}\n\nvar viewer_1655009225157955 = null;\nvar warn = document.getElementById(\"3dmolwarning_1655009225157955\");\nif(warn) {\n    warn.parentNode.removeChild(warn);\n}\n$3Dmolpromise.then(function() {\nviewer_1655009225157955 = $3Dmol.createViewer($(\"#3dmolviewer_1655009225157955\"),{backgroundColor:\"white\"});\n$3Dmol.download(\"6LU7\", viewer_1655009225157955, {}, function() {\nviewer_1655009225157955.zoomTo();\n\tviewer_1655009225157955.setStyle({\"cartoon\": {\"color\": \"spectrum\"}});\nviewer_1655009225157955.render();\n})\n});\n</script>",
      "text/html": [
       "<div id=\"3dmolviewer_1655009225157955\"  style=\"position: relative; width: 640px; height: 480px\">\n",
       "        <p id=\"3dmolwarning_1655009225157955\" style=\"background-color:#ffcccc;color:black\">You appear to be running in JupyterLab (or JavaScript failed to load for some other reason).  You need to install the 3dmol extension: <br>\n",
       "        <tt>jupyter labextension install jupyterlab_3dmol</tt></p>\n",
       "        </div>\n",
       "<script>\n",
       "\n",
       "var loadScriptAsync = function(uri){\n",
       "  return new Promise((resolve, reject) => {\n",
       "    var tag = document.createElement('script');\n",
       "    tag.src = uri;\n",
       "    tag.async = true;\n",
       "    tag.onload = () => {\n",
       "      resolve();\n",
       "    };\n",
       "  var firstScriptTag = document.getElementsByTagName('script')[0];\n",
       "  firstScriptTag.parentNode.insertBefore(tag, firstScriptTag);\n",
       "});\n",
       "};\n",
       "\n",
       "if(typeof $3Dmolpromise === 'undefined') {\n",
       "$3Dmolpromise = null;\n",
       "  $3Dmolpromise = loadScriptAsync('https://3dmol.org/build/3Dmol.js');\n",
       "}\n",
       "\n",
       "var viewer_1655009225157955 = null;\n",
       "var warn = document.getElementById(\"3dmolwarning_1655009225157955\");\n",
       "if(warn) {\n",
       "    warn.parentNode.removeChild(warn);\n",
       "}\n",
       "$3Dmolpromise.then(function() {\n",
       "viewer_1655009225157955 = $3Dmol.createViewer($(\"#3dmolviewer_1655009225157955\"),{backgroundColor:\"white\"});\n",
       "$3Dmol.download(\"6LU7\", viewer_1655009225157955, {}, function() {\n",
       "viewer_1655009225157955.zoomTo();\n",
       "\tviewer_1655009225157955.setStyle({\"cartoon\": {\"color\": \"spectrum\"}});\n",
       "viewer_1655009225157955.render();\n",
       "})\n",
       "});\n",
       "</script>"
      ]
     },
     "metadata": {},
     "output_type": "display_data"
    },
    {
     "data": {
      "text/plain": [
       "<py3Dmol.view at 0x74ac328ac0>"
      ]
     },
     "execution_count": 59,
     "metadata": {},
     "output_type": "execute_result"
    }
   ],
   "source": [
    "view2.setStyle({'cartoon':{'color':'spectrum'}})\n"
   ]
  },
  {
   "cell_type": "code",
   "execution_count": 60,
   "metadata": {
    "scrolled": true
   },
   "outputs": [
    {
     "data": {
      "application/3dmoljs_load.v0": "<div id=\"3dmolviewer_16550092254153006\"  style=\"position: relative; width: 640px; height: 480px\">\n        <p id=\"3dmolwarning_16550092254153006\" style=\"background-color:#ffcccc;color:black\">You appear to be running in JupyterLab (or JavaScript failed to load for some other reason).  You need to install the 3dmol extension: <br>\n        <tt>jupyter labextension install jupyterlab_3dmol</tt></p>\n        </div>\n<script>\n\nvar loadScriptAsync = function(uri){\n  return new Promise((resolve, reject) => {\n    var tag = document.createElement('script');\n    tag.src = uri;\n    tag.async = true;\n    tag.onload = () => {\n      resolve();\n    };\n  var firstScriptTag = document.getElementsByTagName('script')[0];\n  firstScriptTag.parentNode.insertBefore(tag, firstScriptTag);\n});\n};\n\nif(typeof $3Dmolpromise === 'undefined') {\n$3Dmolpromise = null;\n  $3Dmolpromise = loadScriptAsync('https://3dmol.org/build/3Dmol.js');\n}\n\nvar viewer_16550092254153006 = null;\nvar warn = document.getElementById(\"3dmolwarning_16550092254153006\");\nif(warn) {\n    warn.parentNode.removeChild(warn);\n}\n$3Dmolpromise.then(function() {\nviewer_16550092254153006 = $3Dmol.createViewer($(\"#3dmolviewer_16550092254153006\"),{backgroundColor:\"white\"});\n$3Dmol.download(\"6LU7\", viewer_16550092254153006, {}, function() {\nviewer_16550092254153006.zoomTo();\n\tviewer_16550092254153006.setStyle({\"cartoon\": {\"color\": \"spectrum\"}});\n\tviewer_16550092254153006.render_image();\nviewer_16550092254153006.render();\n})\n});\n</script>",
      "text/html": [
       "<div id=\"3dmolviewer_16550092254153006\"  style=\"position: relative; width: 640px; height: 480px\">\n",
       "        <p id=\"3dmolwarning_16550092254153006\" style=\"background-color:#ffcccc;color:black\">You appear to be running in JupyterLab (or JavaScript failed to load for some other reason).  You need to install the 3dmol extension: <br>\n",
       "        <tt>jupyter labextension install jupyterlab_3dmol</tt></p>\n",
       "        </div>\n",
       "<script>\n",
       "\n",
       "var loadScriptAsync = function(uri){\n",
       "  return new Promise((resolve, reject) => {\n",
       "    var tag = document.createElement('script');\n",
       "    tag.src = uri;\n",
       "    tag.async = true;\n",
       "    tag.onload = () => {\n",
       "      resolve();\n",
       "    };\n",
       "  var firstScriptTag = document.getElementsByTagName('script')[0];\n",
       "  firstScriptTag.parentNode.insertBefore(tag, firstScriptTag);\n",
       "});\n",
       "};\n",
       "\n",
       "if(typeof $3Dmolpromise === 'undefined') {\n",
       "$3Dmolpromise = null;\n",
       "  $3Dmolpromise = loadScriptAsync('https://3dmol.org/build/3Dmol.js');\n",
       "}\n",
       "\n",
       "var viewer_16550092254153006 = null;\n",
       "var warn = document.getElementById(\"3dmolwarning_16550092254153006\");\n",
       "if(warn) {\n",
       "    warn.parentNode.removeChild(warn);\n",
       "}\n",
       "$3Dmolpromise.then(function() {\n",
       "viewer_16550092254153006 = $3Dmol.createViewer($(\"#3dmolviewer_16550092254153006\"),{backgroundColor:\"white\"});\n",
       "$3Dmol.download(\"6LU7\", viewer_16550092254153006, {}, function() {\n",
       "viewer_16550092254153006.zoomTo();\n",
       "\tviewer_16550092254153006.setStyle({\"cartoon\": {\"color\": \"spectrum\"}});\n",
       "\tviewer_16550092254153006.render_image();\n",
       "viewer_16550092254153006.render();\n",
       "})\n",
       "});\n",
       "</script>"
      ]
     },
     "metadata": {},
     "output_type": "display_data"
    },
    {
     "data": {
      "text/plain": [
       "<py3Dmol.view at 0x74ac328ac0>"
      ]
     },
     "execution_count": 60,
     "metadata": {},
     "output_type": "execute_result"
    }
   ],
   "source": [
    "view2.render_image()"
   ]
  },
  {
   "cell_type": "markdown",
   "metadata": {},
   "source": [
    "<b>Conclusion</b>\n",
    "   - Analysed the Protein synthesis of Covid 19 by the use of bioinformatics tools and python library\n"
   ]
  }
 ],
 "metadata": {
  "kernelspec": {
   "display_name": "Python 3",
   "language": "python",
   "name": "python3"
  },
  "language_info": {
   "codemirror_mode": {
    "name": "ipython",
    "version": 3
   },
   "file_extension": ".py",
   "mimetype": "text/x-python",
   "name": "python",
   "nbconvert_exporter": "python",
   "pygments_lexer": "ipython3",
   "version": "3.8.5"
  }
 },
 "nbformat": 4,
 "nbformat_minor": 4
}
